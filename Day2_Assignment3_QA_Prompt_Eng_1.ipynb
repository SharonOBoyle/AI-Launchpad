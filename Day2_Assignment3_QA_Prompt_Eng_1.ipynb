{
  "nbformat": 4,
  "nbformat_minor": 0,
  "metadata": {
    "colab": {
      "provenance": [],
      "gpuType": "T4",
      "include_colab_link": true
    },
    "kernelspec": {
      "name": "python3",
      "display_name": "Python 3"
    },
    "language_info": {
      "name": "python"
    },
    "accelerator": "GPU"
  },
  "cells": [
    {
      "cell_type": "markdown",
      "metadata": {
        "id": "view-in-github",
        "colab_type": "text"
      },
      "source": [
        "<a href=\"https://colab.research.google.com/github/SharonOBoyle/AI-Launchpad/blob/main/Day2_Assignment3_QA_Prompt_Eng_1.ipynb\" target=\"_parent\"><img src=\"https://colab.research.google.com/assets/colab-badge.svg\" alt=\"Open In Colab\"/></a>"
      ]
    },
    {
      "cell_type": "markdown",
      "source": [
        "# **Assignment 3**\n",
        "\n",
        "Change the prompts In QA format for code in file https://github.com/toni-ramchandani/AIMasterClassTTT/blob/main/Section_7-1_Prompt_Eng_1.ipynb\n"
      ],
      "metadata": {
        "id": "UL2kDsB2Qr-5"
      }
    },
    {
      "cell_type": "code",
      "source": [
        "!pip install openai==0.28"
      ],
      "metadata": {
        "colab": {
          "base_uri": "https://localhost:8080/"
        },
        "id": "L65LO8WItKj0",
        "outputId": "2a24957a-5716-4620-e539-6f9cd3c784f3"
      },
      "execution_count": null,
      "outputs": [
        {
          "output_type": "stream",
          "name": "stdout",
          "text": [
            "Collecting openai==0.28\n",
            "  Downloading openai-0.28.0-py3-none-any.whl.metadata (13 kB)\n",
            "Requirement already satisfied: requests>=2.20 in /usr/local/lib/python3.10/dist-packages (from openai==0.28) (2.32.3)\n",
            "Requirement already satisfied: tqdm in /usr/local/lib/python3.10/dist-packages (from openai==0.28) (4.66.6)\n",
            "Requirement already satisfied: aiohttp in /usr/local/lib/python3.10/dist-packages (from openai==0.28) (3.11.9)\n",
            "Requirement already satisfied: charset-normalizer<4,>=2 in /usr/local/lib/python3.10/dist-packages (from requests>=2.20->openai==0.28) (3.4.0)\n",
            "Requirement already satisfied: idna<4,>=2.5 in /usr/local/lib/python3.10/dist-packages (from requests>=2.20->openai==0.28) (3.10)\n",
            "Requirement already satisfied: urllib3<3,>=1.21.1 in /usr/local/lib/python3.10/dist-packages (from requests>=2.20->openai==0.28) (2.2.3)\n",
            "Requirement already satisfied: certifi>=2017.4.17 in /usr/local/lib/python3.10/dist-packages (from requests>=2.20->openai==0.28) (2024.8.30)\n",
            "Requirement already satisfied: aiohappyeyeballs>=2.3.0 in /usr/local/lib/python3.10/dist-packages (from aiohttp->openai==0.28) (2.4.4)\n",
            "Requirement already satisfied: aiosignal>=1.1.2 in /usr/local/lib/python3.10/dist-packages (from aiohttp->openai==0.28) (1.3.1)\n",
            "Requirement already satisfied: async-timeout<6.0,>=4.0 in /usr/local/lib/python3.10/dist-packages (from aiohttp->openai==0.28) (4.0.3)\n",
            "Requirement already satisfied: attrs>=17.3.0 in /usr/local/lib/python3.10/dist-packages (from aiohttp->openai==0.28) (24.2.0)\n",
            "Requirement already satisfied: frozenlist>=1.1.1 in /usr/local/lib/python3.10/dist-packages (from aiohttp->openai==0.28) (1.5.0)\n",
            "Requirement already satisfied: multidict<7.0,>=4.5 in /usr/local/lib/python3.10/dist-packages (from aiohttp->openai==0.28) (6.1.0)\n",
            "Requirement already satisfied: propcache>=0.2.0 in /usr/local/lib/python3.10/dist-packages (from aiohttp->openai==0.28) (0.2.1)\n",
            "Requirement already satisfied: yarl<2.0,>=1.17.0 in /usr/local/lib/python3.10/dist-packages (from aiohttp->openai==0.28) (1.18.3)\n",
            "Requirement already satisfied: typing-extensions>=4.1.0 in /usr/local/lib/python3.10/dist-packages (from multidict<7.0,>=4.5->aiohttp->openai==0.28) (4.12.2)\n",
            "Downloading openai-0.28.0-py3-none-any.whl (76 kB)\n",
            "\u001b[?25l   \u001b[90m━━━━━━━━━━━━━━━━━━━━━━━━━━━━━━━━━━━━━━━━\u001b[0m \u001b[32m0.0/76.5 kB\u001b[0m \u001b[31m?\u001b[0m eta \u001b[36m-:--:--\u001b[0m\r\u001b[2K   \u001b[90m━━━━━━━━━━━━━━━━━━━━━━━━━━━━━━━━━━━━━━━━\u001b[0m \u001b[32m76.5/76.5 kB\u001b[0m \u001b[31m2.3 MB/s\u001b[0m eta \u001b[36m0:00:00\u001b[0m\n",
            "\u001b[?25hInstalling collected packages: openai\n",
            "  Attempting uninstall: openai\n",
            "    Found existing installation: openai 1.54.5\n",
            "    Uninstalling openai-1.54.5:\n",
            "      Successfully uninstalled openai-1.54.5\n",
            "Successfully installed openai-0.28.0\n"
          ]
        }
      ]
    },
    {
      "cell_type": "code",
      "source": [
        "import openai\n",
        "import os\n",
        "import time\n",
        "\n",
        "from google.colab import userdata\n",
        "\n",
        "\n",
        "openai.api_key  = userdata.get('OpenAI-Key')"
      ],
      "metadata": {
        "id": "12WLF6e9_zuv"
      },
      "execution_count": null,
      "outputs": []
    },
    {
      "cell_type": "markdown",
      "source": [
        "#### helper function\n",
        "Using OpenAI's `gpt-4o-mini` model and the [chat completions endpoint](https://platform.openai.com/docs/guides/chat).\n",
        "\n",
        "This helper function makes it easier to use prompts and look at the generated outputs:"
      ],
      "metadata": {
        "id": "kcgEj0dA_5gn"
      }
    },
    {
      "cell_type": "code",
      "source": [
        "def get_completion(prompt, model=\"gpt-4o-mini\"):\n",
        "    messages = [{\"role\": \"user\", \"content\": prompt}]\n",
        "    # Add a delay before making the API call to prevent RateLimitError\n",
        "    time.sleep(10)  # Wait for 10 seconds to avoid RateLimitErrors\n",
        "    response = openai.ChatCompletion.create(\n",
        "        model=model,\n",
        "        messages=messages,\n",
        "        temperature=0, # this is the degree of randomness of the model's output\n",
        "    )\n",
        "    return response.choices[0].message[\"content\"]"
      ],
      "metadata": {
        "id": "jQV3FEV9_9zl"
      },
      "execution_count": null,
      "outputs": []
    },
    {
      "cell_type": "markdown",
      "source": [
        "## Prompting Principles\n",
        "- **Principle 1: Write clear and specific instructions**\n",
        "- **Principle 2: Give the model time to “think”**\n",
        "\n",
        "### Tactics\n",
        "\n",
        "### Principle 1: Write clear and specific instructions\n",
        "#### Tactic 1: Use delimiters to clearly indicate distinct parts of the input\n",
        "- Delimiters can be anything like: ```, \"\"\", < >, `<tag> </tag>`, `:`"
      ],
      "metadata": {
        "id": "5GWLzbFcAFSg"
      }
    },
    {
      "cell_type": "code",
      "source": [
        "text = f\"\"\"\n",
        "At the Pacific Northwest Software Quality Conference in October 2024, I gave a keynote presentation titled “What Are We Thinking in the Age of AI?“\n",
        "\n",
        "There’s a lot to think about, and for testers, there’s a lot to do. For one, we need to understand the basis for the “AI” claim. Any kind of software can be marketed as “AI”, since it’s doing something that (presumably) a human could do, at least in theory, given time and resources. So we must consider the scope and risk associated with the AI claim, as an extra element in the general scope and risk for the product.\n",
        "\n",
        "AI comes with special problems: algorithmic obscurity; radical fragility; claims that are even more wishful than usual; social intrusiveness; from executives and managers with FOMO, corporate defensiveness; and from the non-critical AI fanboys, social aggressiveness. The notes provide more details.\n",
        "\n",
        "One of the most important points is that — as with all software — we cannot treat a demonstration of a happy outcome as evidence of reliability and validity. A demonstration is not a test. In the notes, there are examples of how James Bach and I have tested various LLM-based products.\n",
        "\n",
        "There’s also a page — soon to be expanded to a blog post — on circumstances in which AI might be safely and reasonably useful.\n",
        "\"\"\"\n",
        "prompt = f\"\"\"\n",
        "Summarize the text delimited by < > \\\n",
        "into a single sentence.\n",
        "<{text}>\n",
        "\"\"\"\n",
        "response = get_completion(prompt)\n",
        "print(response)"
      ],
      "metadata": {
        "id": "8q8gh5geAH3U",
        "colab": {
          "base_uri": "https://localhost:8080/"
        },
        "outputId": "ec9f8e92-8eeb-4e3e-b895-e0eca1b5ff14"
      },
      "execution_count": null,
      "outputs": [
        {
          "output_type": "stream",
          "name": "stdout",
          "text": [
            "At the Pacific Northwest Software Quality Conference in October 2024, I delivered a keynote on the complexities and risks of AI in software testing, emphasizing the need for critical evaluation of AI claims and the distinction between demonstrations and actual testing for reliability and validity.\n"
          ]
        }
      ]
    },
    {
      "cell_type": "markdown",
      "source": [
        "#### Tactic 2: Ask for a structured output\n",
        "- JSON, HTML"
      ],
      "metadata": {
        "id": "W17RwlNeAL6U"
      }
    },
    {
      "cell_type": "code",
      "source": [
        "prompt = f\"\"\"\n",
        "Generate a list of three IPv4 addresses for testing a security incident platform along \\\n",
        "with realistic suspicious data values.\n",
        "Provide them in JSON format with the following keys:\n",
        "name, type, value, suspicious_data.\n",
        "\"\"\"\n",
        "response = get_completion(prompt)\n",
        "print(response)"
      ],
      "metadata": {
        "id": "pI6Tz4beAPl0",
        "colab": {
          "base_uri": "https://localhost:8080/"
        },
        "outputId": "1b81fabc-18da-4922-9bea-6d3a08c282b9"
      },
      "execution_count": null,
      "outputs": [
        {
          "output_type": "stream",
          "name": "stdout",
          "text": [
            "Here is a JSON formatted list of three IPv4 addresses along with realistic suspicious data values for testing a security incident platform:\n",
            "\n",
            "```json\n",
            "[\n",
            "    {\n",
            "        \"name\": \"Suspicious IP 1\",\n",
            "        \"type\": \"IPv4\",\n",
            "        \"value\": \"192.168.1.10\",\n",
            "        \"suspicious_data\": {\n",
            "            \"last_seen\": \"2023-10-15T14:32:00Z\",\n",
            "            \"malware_detected\": true,\n",
            "            \"connection_attempts\": 15,\n",
            "            \"geo_location\": \"Unknown\",\n",
            "            \"associated_domains\": [\"malicious-site.com\", \"phishing-site.net\"]\n",
            "        }\n",
            "    },\n",
            "    {\n",
            "        \"name\": \"Suspicious IP 2\",\n",
            "        \"type\": \"IPv4\",\n",
            "        \"value\": \"10.0.0.5\",\n",
            "        \"suspicious_data\": {\n",
            "            \"last_seen\": \"2023-10-14T09:15:00Z\",\n",
            "            \"malware_detected\": false,\n",
            "            \"connection_attempts\": 30,\n",
            "            \"geo_location\": \"Russia\",\n",
            "            \"associated_domains\": [\"suspicious-domain.org\"]\n",
            "        }\n",
            "    },\n",
            "    {\n",
            "        \"name\": \"Suspicious IP 3\",\n",
            "        \"type\": \"IPv4\",\n",
            "        \"value\": \"172.16.254.1\",\n",
            "        \"suspicious_data\": {\n",
            "            \"last_seen\": \"2023-10-16T11:45:00Z\",\n",
            "            \"malware_detected\": true,\n",
            "            \"connection_attempts\": 50,\n",
            "            \"geo_location\": \"China\",\n",
            "            \"associated_domains\": [\"compromised-site.com\", \"fake-login.net\"]\n",
            "        }\n",
            "    }\n",
            "]\n",
            "```\n",
            "\n",
            "This JSON structure includes three entries with various suspicious data attributes that could be relevant for a security incident platform.\n"
          ]
        }
      ]
    },
    {
      "cell_type": "markdown",
      "source": [
        "#### Tactic 3: Ask the model to check whether conditions are satisfied"
      ],
      "metadata": {
        "id": "wwOWU_quATVi"
      }
    },
    {
      "cell_type": "code",
      "source": [
        "text = f\"\"\"\n",
        "To create a bug ticket in Jira, log in to your Jira \\\n",
        "instance and navigate to the appropriate project. \\\n",
        "Click on the \"Create\" button to open the ticket creation form. \\\n",
        "Select \"Bug\" as the issue type. \\\n",
        "Provide a clear and concise summary of the bug in the Summary field, \\\n",
        "and include detailed steps to reproduce the issue in the Description field, \\\n",
        "along with the expected and actual results. \\\n",
        "Assign a priority level (e.g., Critical, Major, Minor) \\\n",
        "and, if applicable, assign the bug to a team member. \\\n",
        "Add any relevant attachments, such as screenshots or logs, \\\n",
        "and label or link the issue to related tasks or components. \\\n",
        "Finally, click \"Create\" to save and submit the ticket. \\\n",
        "\"\"\"\n",
        "\n",
        "prompt = f\"\"\"\n",
        "You will be provided with text delimited by triple quotes.\n",
        "If it contains a sequence of instructions, \\\n",
        "re-write those instructions in the following format:\n",
        "\n",
        "Step 1 - ...\n",
        "Step 2 - …\n",
        "…\n",
        "Step N - …\n",
        "\n",
        "If the text does not contain a sequence of instructions, \\\n",
        "then simply write \\\"No steps provided.\\\"\n",
        "\n",
        "\\\"\\\"\\\"{text}\\\"\\\"\\\"\n",
        "\"\"\"\n",
        "response = get_completion(prompt)\n",
        "print(\"Completion for Text:\")\n",
        "print(response)"
      ],
      "metadata": {
        "id": "LTyp5F-LAV7h",
        "colab": {
          "base_uri": "https://localhost:8080/"
        },
        "outputId": "5bb0d97d-19ca-4b9c-ea47-0f65ea21ac44"
      },
      "execution_count": null,
      "outputs": [
        {
          "output_type": "stream",
          "name": "stdout",
          "text": [
            "Completion for Text:\n",
            "Step 1 - Log in to your Jira instance and navigate to the appropriate project.  \n",
            "Step 2 - Click on the \"Create\" button to open the ticket creation form.  \n",
            "Step 3 - Select \"Bug\" as the issue type.  \n",
            "Step 4 - Provide a clear and concise summary of the bug in the Summary field.  \n",
            "Step 5 - Include detailed steps to reproduce the issue in the Description field, along with the expected and actual results.  \n",
            "Step 6 - Assign a priority level (e.g., Critical, Major, Minor).  \n",
            "Step 7 - If applicable, assign the bug to a team member.  \n",
            "Step 8 - Add any relevant attachments, such as screenshots or logs.  \n",
            "Step 9 - Label or link the issue to related tasks or components.  \n",
            "Step 10 - Click \"Create\" to save and submit the ticket.  \n"
          ]
        }
      ]
    },
    {
      "cell_type": "code",
      "source": [
        "text_2 = f\"\"\"\n",
        "At the Pacific Northwest Software Quality Conference in October 2024,\n",
        "I gave a keynote presentation titled “What Are We Thinking in the Age of AI?“\n",
        "There’s a lot to think about, and for testers, there’s a lot to do. For\n",
        "one, we need to understand the basis for the “AI” claim. Any kind of software\n",
        "can be marketed as “AI”, since it’s doing something that (presumably) a human\n",
        "could do, at least in theory, given time and resources. So we must consider\n",
        "the scope and risk associated with the AI claim, as an extra element in the\n",
        "general scope and risk for the product.\n",
        "\n",
        "AI comes with special problems: algorithmic obscurity; radical fragility; claims\n",
        " that are even more wishful than usual; social intrusiveness; from executives\n",
        " and managers with FOMO, corporate defensiveness; and from the non-critical AI\n",
        " fanboys, social aggressiveness. The notes provide more details.\n",
        "\n",
        "One of the most important points is that — as with all software — we cannot\n",
        "treat a demonstration of a happy outcome as evidence of reliability and\n",
        "validity. A demonstration is not a test. In the notes, there are examples of\n",
        "how James Bach and I have tested various LLM-based products.\n",
        "\n",
        "There’s also a page — soon to be expanded to a blog post — on circumstances\n",
        "in which AI might be safely and reasonably useful.\n",
        "\"\"\"\n",
        "prompt = f\"\"\"\n",
        "You will be provided with text delimited by triple quotes.\n",
        "If it contains a sequence of instructions, \\\n",
        "re-write those instructions in the following format:\n",
        "\n",
        "Step 1 - ...\n",
        "Step 2 - …\n",
        "…\n",
        "Step N - …\n",
        "\n",
        "If the text does not contain a sequence of instructions, \\\n",
        "then simply write \\\"No steps provided.\\\"\n",
        "\n",
        "\\\"\\\"\\\"{text_2}\\\"\\\"\\\"\n",
        "\"\"\"\n",
        "response = get_completion(prompt)\n",
        "print(\"Completion for Text 2:\")\n",
        "print(response)"
      ],
      "metadata": {
        "id": "4kKcajHLAY0E",
        "colab": {
          "base_uri": "https://localhost:8080/"
        },
        "outputId": "e0b09aa4-0991-4fdd-cab0-6985459a054d"
      },
      "execution_count": null,
      "outputs": [
        {
          "output_type": "stream",
          "name": "stdout",
          "text": [
            "Completion for Text 2:\n",
            "No steps provided.\n"
          ]
        }
      ]
    },
    {
      "cell_type": "markdown",
      "source": [
        "#### Tactic 4: \"Few-shot\" prompting"
      ],
      "metadata": {
        "id": "9SkdYATrAcAH"
      }
    },
    {
      "cell_type": "code",
      "source": [
        "prompt = f\"\"\"\n",
        "Your task is to create test scenarios for an e-commerce checkout system\n",
        "\n",
        "<Example_1>:\n",
        "Feature: Checkout Flow\n",
        "Scenario: Verify that a user can complete a purchase using a credit card.\n",
        "Steps:\n",
        "1. Add a product to the cart.\n",
        "2. Proceed to the checkout page.\n",
        "3. Enter valid shipping details.\n",
        "4. Select \"Credit Card\" as the payment method and enter valid payment details.\n",
        "5. Complete the purchase.\n",
        "Expected Result: The user receives an order confirmation message and email.\n",
        "\n",
        "Create another example scenario.\n",
        "\"\"\"\n",
        "response = get_completion(prompt)\n",
        "print(response)"
      ],
      "metadata": {
        "id": "BCGJJTHPAeAD",
        "colab": {
          "base_uri": "https://localhost:8080/"
        },
        "outputId": "b2d0db17-01a0-4640-e1bf-906aded5b93c"
      },
      "execution_count": null,
      "outputs": [
        {
          "output_type": "stream",
          "name": "stdout",
          "text": [
            "Feature: Checkout Flow  \n",
            "Scenario: Verify that a user cannot complete a purchase with an expired credit card.  \n",
            "Steps:  \n",
            "1. Add a product to the cart.  \n",
            "2. Proceed to the checkout page.  \n",
            "3. Enter valid shipping details.  \n",
            "4. Select \"Credit Card\" as the payment method and enter expired credit card details.  \n",
            "5. Attempt to complete the purchase.  \n",
            "Expected Result: The user receives an error message indicating that the credit card is expired and is prompted to enter valid payment details.\n"
          ]
        }
      ]
    },
    {
      "cell_type": "markdown",
      "source": [
        "### Principle 2: Give the model time to “think”\n",
        "\n",
        "#### Tactic 1: Specify the steps required to complete a task"
      ],
      "metadata": {
        "id": "pjswK-IjAisD"
      }
    },
    {
      "cell_type": "code",
      "source": [
        "test_scenario = f\"\"\"\n",
        "Feature: Checkout Flow\n",
        "Scenario: Verify that a user cannot complete a purchase with an expired credit card.\n",
        "Steps:\n",
        "1. Add a product to the cart.\n",
        "2. Proceed to the checkout page.\n",
        "3. Enter valid shipping details.\n",
        "4. Select \"Credit Card\" as the payment method and enter expired credit card details.\n",
        "5. Attempt to complete the purchase.\n",
        "Expected Result: The user receives an error message indicating that the credit card is expired and is prompted to enter valid payment details.\n",
        "\"\"\"\n",
        "\n",
        "# example 1\n",
        "prompt_1 = f\"\"\"\n",
        "Perform the following actions:\n",
        "1 - Change the following test scenario delimited by triple \\\n",
        "backticks to BDD format.\n",
        "2 - Generate selenium code for the test scenario, for a Groovy Selenium project.\n",
        "3 - Refactor the selenium code for page object model design pattern.\n",
        "4 - Refactor the code into separate page object and test classes\n",
        "\n",
        "Separate your answers with line breaks.\n",
        "\n",
        "Test Scenario:\n",
        "```{test_scenario}```\n",
        "\"\"\"\n",
        "response = get_completion(prompt_1)\n",
        "print(\"Completion for prompt 1:\")\n",
        "print(response)"
      ],
      "metadata": {
        "id": "dCFByJ0HAk_o",
        "colab": {
          "base_uri": "https://localhost:8080/"
        },
        "outputId": "c11e8b4a-b449-4705-a2ca-601522bfd20b"
      },
      "execution_count": null,
      "outputs": [
        {
          "output_type": "stream",
          "name": "stdout",
          "text": [
            "Completion for prompt 1:\n",
            "1. **BDD Format:**\n",
            "\n",
            "```gherkin\n",
            "Feature: Checkout Flow  \n",
            "  Scenario: Verify that a user cannot complete a purchase with an expired credit card  \n",
            "    Given the user has added a product to the cart  \n",
            "    When the user proceeds to the checkout page  \n",
            "    And the user enters valid shipping details  \n",
            "    And the user selects \"Credit Card\" as the payment method  \n",
            "    And the user enters expired credit card details  \n",
            "    Then the user should receive an error message indicating that the credit card is expired  \n",
            "    And the user should be prompted to enter valid payment details  \n",
            "```\n",
            "\n",
            "---\n",
            "\n",
            "2. **Selenium Code for the Test Scenario (Groovy):**\n",
            "\n",
            "```groovy\n",
            "import org.openqa.selenium.By\n",
            "import org.openqa.selenium.WebDriver\n",
            "import org.openqa.selenium.WebElement\n",
            "import org.openqa.selenium.chrome.ChromeDriver\n",
            "\n",
            "class CheckoutTest {\n",
            "    WebDriver driver = new ChromeDriver()\n",
            "\n",
            "    void testExpiredCreditCard() {\n",
            "        // Step 1: Add a product to the cart\n",
            "        driver.get(\"http://example.com/product-page\")\n",
            "        WebElement addToCartButton = driver.findElement(By.id(\"add-to-cart\"))\n",
            "        addToCartButton.click()\n",
            "\n",
            "        // Step 2: Proceed to the checkout page\n",
            "        WebElement checkoutButton = driver.findElement(By.id(\"checkout\"))\n",
            "        checkoutButton.click()\n",
            "\n",
            "        // Step 3: Enter valid shipping details\n",
            "        WebElement shippingAddress = driver.findElement(By.id(\"shipping-address\"))\n",
            "        shippingAddress.sendKeys(\"123 Main St, Anytown, USA\")\n",
            "\n",
            "        // Step 4: Select \"Credit Card\" as the payment method and enter expired credit card details\n",
            "        WebElement paymentMethod = driver.findElement(By.id(\"payment-method-credit-card\"))\n",
            "        paymentMethod.click()\n",
            "        WebElement cardNumber = driver.findElement(By.id(\"card-number\"))\n",
            "        cardNumber.sendKeys(\"4111111111111111\") // Example card number\n",
            "        WebElement expiryDate = driver.findElement(By.id(\"expiry-date\"))\n",
            "        expiryDate.sendKeys(\"01/20\") // Expired date\n",
            "\n",
            "        // Step 5: Attempt to complete the purchase\n",
            "        WebElement completePurchaseButton = driver.findElement(By.id(\"complete-purchase\"))\n",
            "        completePurchaseButton.click()\n",
            "\n",
            "        // Expected Result: Check for error message\n",
            "        WebElement errorMessage = driver.findElement(By.id(\"error-message\"))\n",
            "        assert errorMessage.isDisplayed()\n",
            "        assert errorMessage.getText().contains(\"credit card is expired\")\n",
            "        \n",
            "        driver.quit()\n",
            "    }\n",
            "}\n",
            "```\n",
            "\n",
            "---\n",
            "\n",
            "3. **Refactored Selenium Code into Page Object Model Design Pattern:**\n",
            "\n",
            "**Page Object Class: `CheckoutPage.groovy`**\n",
            "\n",
            "```groovy\n",
            "import org.openqa.selenium.By\n",
            "import org.openqa.selenium.WebDriver\n",
            "import org.openqa.selenium.WebElement\n",
            "\n",
            "class CheckoutPage {\n",
            "    WebDriver driver\n",
            "\n",
            "    CheckoutPage(WebDriver driver) {\n",
            "        this.driver = driver\n",
            "    }\n",
            "\n",
            "    void addProductToCart() {\n",
            "        WebElement addToCartButton = driver.findElement(By.id(\"add-to-cart\"))\n",
            "        addToCartButton.click()\n",
            "    }\n",
            "\n",
            "    void proceedToCheckout() {\n",
            "        WebElement checkoutButton = driver.findElement(By.id(\"checkout\"))\n",
            "        checkoutButton.click()\n",
            "    }\n",
            "\n",
            "    void enterShippingDetails(String address) {\n",
            "        WebElement shippingAddress = driver.findElement(By.id(\"shipping-address\"))\n",
            "        shippingAddress.sendKeys(address)\n",
            "    }\n",
            "\n",
            "    void selectCreditCardPayment() {\n",
            "        WebElement paymentMethod = driver.findElement(By.id(\"payment-method-credit-card\"))\n",
            "        paymentMethod.click()\n",
            "    }\n",
            "\n",
            "    void enterExpiredCardDetails(String cardNumber, String expiryDate) {\n",
            "        WebElement cardNumberField = driver.findElement(By.id(\"card-number\"))\n",
            "        cardNumberField.sendKeys(cardNumber)\n",
            "        WebElement expiryDateField = driver.findElement(By.id(\"expiry-date\"))\n",
            "        expiryDateField.sendKeys(expiryDate)\n",
            "    }\n",
            "\n",
            "    void completePurchase() {\n",
            "        WebElement completePurchaseButton = driver.findElement(By.id(\"complete-purchase\"))\n",
            "        completePurchaseButton.click()\n",
            "    }\n",
            "\n",
            "    String getErrorMessage() {\n",
            "        WebElement errorMessage = driver.findElement(By.id(\"error-message\"))\n",
            "        return errorMessage.getText()\n",
            "    }\n",
            "}\n",
            "```\n",
            "\n",
            "**Test Class: `CheckoutTest.groovy`**\n",
            "\n",
            "```groovy\n",
            "import org.openqa.selenium.WebDriver\n",
            "import org.openqa.selenium.chrome.ChromeDriver\n",
            "\n",
            "class CheckoutTest {\n",
            "    WebDriver driver = new ChromeDriver()\n",
            "    CheckoutPage checkoutPage = new CheckoutPage(driver)\n",
            "\n",
            "    void testExpiredCreditCard() {\n",
            "        driver.get(\"http://example.com/product-page\")\n",
            "        \n",
            "        // Step 1: Add a product to the cart\n",
            "        checkoutPage.addProductToCart()\n",
            "\n",
            "        // Step 2: Proceed to the checkout page\n",
            "        checkoutPage.proceedToCheckout()\n",
            "\n",
            "        // Step 3: Enter valid shipping details\n",
            "        checkoutPage.enterShippingDetails(\"123 Main St, Anytown, USA\")\n",
            "\n",
            "        // Step 4: Select \"Credit Card\" as the payment method and enter expired credit card details\n",
            "        checkoutPage.selectCreditCardPayment()\n",
            "        checkoutPage.enterExpiredCardDetails(\"4111111111111111\", \"01/20\")\n",
            "\n",
            "        // Step 5: Attempt to complete the purchase\n",
            "        checkoutPage.completePurchase()\n",
            "\n",
            "        // Expected Result: Check for error message\n",
            "        String errorMessage = checkoutPage.getErrorMessage()\n",
            "        assert errorMessage.contains(\"credit card is expired\")\n",
            "\n",
            "        driver.quit()\n",
            "    }\n",
            "}\n",
            "```\n"
          ]
        }
      ]
    },
    {
      "cell_type": "markdown",
      "source": [
        "#### Ask for output in a specified format"
      ],
      "metadata": {
        "id": "ERn00uD2AqRF"
      }
    },
    {
      "cell_type": "code",
      "source": [
        "feature_spec = \"\"\"\n",
        "FEATURE DESCRIPTION\n",
        "- The application allows users to upload images and share them with others.\n",
        "- Users can add captions to images.\n",
        "- Uploaded images must not exceed 10MB.\n",
        "- Supported formats: JPEG, PNG, GIF.\n",
        "- Images can be tagged for easy searching.\n",
        "- Unauthorized users cannot access private images.\n",
        "\n",
        "SECURITY REQUIREMENTS\n",
        "- Validate file size and format before upload.\n",
        "- Ensure all uploaded files are scanned for malicious content.\n",
        "- Enforce strict access control for private images.\n",
        "\"\"\""
      ],
      "metadata": {
        "id": "lGVs2xrCFaFu"
      },
      "execution_count": null,
      "outputs": []
    },
    {
      "cell_type": "code",
      "source": [
        "prompt_2 = f\"\"\"\n",
        "You are a QA engineer tasked with validating the feature described below,\n",
        "delimited by three backslashes\n",
        "\n",
        "Your task is to perform the following actions:\n",
        "1 - Generate up to 10 test cases focusing specifically on the security requirements,\n",
        "including validation of file size, format, and access control.\n",
        "2 - Generate a summary of the top 5 test cases, including test case IDs, descriptions,\n",
        "and expected results, in a tabular format for reporting purposes.\n",
        "3 - List each test case ID in the summary.\n",
        "4 - Output a json object that contains the\n",
        "  following keys: id, description, expected\n",
        "\n",
        "Use the following format:\n",
        "Test cases: <text to summarize>\n",
        "Summary: <summary>\n",
        "IDs: <list of test case IDs in the summary>\n",
        "Output JSON: <json with description and ID>\n",
        "\n",
        "Feature: ```{feature_spec}```\n",
        "\"\"\"\n",
        "response = get_completion(prompt_2)\n",
        "print(\"\\nCompletion for prompt 2:\")\n",
        "print(response)"
      ],
      "metadata": {
        "id": "OotovChsAshF",
        "colab": {
          "base_uri": "https://localhost:8080/"
        },
        "outputId": "f220706b-118a-47c4-e1c1-4d1739386977"
      },
      "execution_count": null,
      "outputs": [
        {
          "output_type": "stream",
          "name": "stdout",
          "text": [
            "\n",
            "Completion for prompt 2:\n",
            "### Test Cases:\n",
            "1. **Test Case ID: TC001**  \n",
            "   **Description:** Validate that an image file larger than 10MB cannot be uploaded.  \n",
            "   **Expected Result:** The application should reject the upload and display an error message indicating the file size limit.\n",
            "\n",
            "2. **Test Case ID: TC002**  \n",
            "   **Description:** Validate that an image file in an unsupported format (e.g., BMP) cannot be uploaded.  \n",
            "   **Expected Result:** The application should reject the upload and display an error message indicating the supported formats.\n",
            "\n",
            "3. **Test Case ID: TC003**  \n",
            "   **Description:** Validate that an image file in a supported format (JPEG, PNG, GIF) and under 10MB can be successfully uploaded.  \n",
            "   **Expected Result:** The application should accept the upload and confirm the successful upload.\n",
            "\n",
            "4. **Test Case ID: TC004**  \n",
            "   **Description:** Validate that uploaded images are scanned for malicious content before being stored.  \n",
            "   **Expected Result:** The application should reject any image that is detected as malicious and display an appropriate error message.\n",
            "\n",
            "5. **Test Case ID: TC005**  \n",
            "   **Description:** Validate that unauthorized users cannot access private images.  \n",
            "   **Expected Result:** The application should deny access and display an error message for unauthorized users attempting to view private images.\n",
            "\n",
            "6. **Test Case ID: TC006**  \n",
            "   **Description:** Validate that the application logs all upload attempts, including failed uploads due to size or format issues.  \n",
            "   **Expected Result:** The application should create a log entry for each upload attempt with relevant details.\n",
            "\n",
            "7. **Test Case ID: TC007**  \n",
            "   **Description:** Validate that users can only access their own uploaded images.  \n",
            "   **Expected Result:** The application should restrict access to images uploaded by other users.\n",
            "\n",
            "8. **Test Case ID: TC008**  \n",
            "   **Description:** Validate that the application enforces access control for images marked as private.  \n",
            "   **Expected Result:** The application should deny access to private images for users who do not have permission.\n",
            "\n",
            "9. **Test Case ID: TC009**  \n",
            "   **Description:** Validate that the application provides feedback on the upload status (success or failure).  \n",
            "   **Expected Result:** The application should display a success message for successful uploads and an error message for failures.\n",
            "\n",
            "10. **Test Case ID: TC010**  \n",
            "    **Description:** Validate that the application does not allow the upload of executable files (e.g., .exe, .bat).  \n",
            "    **Expected Result:** The application should reject the upload and display an error message indicating that executable files are not allowed.\n",
            "\n",
            "### Summary:\n",
            "| Test Case ID | Description                                                                 | Expected Result                                                                                     |\n",
            "|--------------|-----------------------------------------------------------------------------|-----------------------------------------------------------------------------------------------------|\n",
            "| TC001        | Validate that an image file larger than 10MB cannot be uploaded.          | The application should reject the upload and display an error message indicating the file size limit. |\n",
            "| TC002        | Validate that an image file in an unsupported format cannot be uploaded.   | The application should reject the upload and display an error message indicating the supported formats. |\n",
            "| TC003        | Validate that an image file in a supported format and under 10MB can be uploaded. | The application should accept the upload and confirm the successful upload.                          |\n",
            "| TC004        | Validate that uploaded images are scanned for malicious content.           | The application should reject any image that is detected as malicious and display an appropriate error message. |\n",
            "| TC005        | Validate that unauthorized users cannot access private images.             | The application should deny access and display an error message for unauthorized users attempting to view private images. |\n",
            "\n",
            "### IDs:\n",
            "- TC001\n",
            "- TC002\n",
            "- TC003\n",
            "- TC004\n",
            "- TC005\n",
            "\n",
            "### Output JSON:\n",
            "```json\n",
            "[\n",
            "    {\n",
            "        \"id\": \"TC001\",\n",
            "        \"description\": \"Validate that an image file larger than 10MB cannot be uploaded.\",\n",
            "        \"expected\": \"The application should reject the upload and display an error message indicating the file size limit.\"\n",
            "    },\n",
            "    {\n",
            "        \"id\": \"TC002\",\n",
            "        \"description\": \"Validate that an image file in an unsupported format cannot be uploaded.\",\n",
            "        \"expected\": \"The application should reject the upload and display an error message indicating the supported formats.\"\n",
            "    },\n",
            "    {\n",
            "        \"id\": \"TC003\",\n",
            "        \"description\": \"Validate that an image file in a supported format and under 10MB can be uploaded.\",\n",
            "        \"expected\": \"The application should accept the upload and confirm the successful upload.\"\n",
            "    },\n",
            "    {\n",
            "        \"id\": \"TC004\",\n",
            "        \"description\": \"Validate that uploaded images are scanned for malicious content.\",\n",
            "        \"expected\": \"The application should reject any image that is detected as malicious and display an appropriate error message.\"\n",
            "    },\n",
            "    {\n",
            "        \"id\": \"TC005\",\n",
            "        \"description\": \"Validate that unauthorized users cannot access private images.\",\n",
            "        \"expected\": \"The application should deny access and display an error message for unauthorized users attempting to view private images.\"\n",
            "    }\n",
            "]\n",
            "```\n"
          ]
        }
      ]
    },
    {
      "cell_type": "markdown",
      "source": [
        "#### Tactic 2: Instruct the model to work out its own solution before rushing to a conclusion"
      ],
      "metadata": {
        "id": "zJvwvtopAvk3"
      }
    },
    {
      "cell_type": "code",
      "source": [
        "item_prices = f\"\"\"\n",
        "[50.00, 30.00, 20.00, 10.00]\n",
        "\"\"\"\n",
        "sales_tax_rate = f\"\"\"\n",
        "0.08\n",
        "\"\"\"\n",
        "postage_cost = f\"\"\"\n",
        "5.00\n",
        "\"\"\""
      ],
      "metadata": {
        "id": "apPqCebHmc1K"
      },
      "execution_count": null,
      "outputs": []
    },
    {
      "cell_type": "code",
      "source": [
        "prompt = f\"\"\"\n",
        "Your task is to determine if the tester's calculation \\\n",
        "is correct or not.\n",
        "To solve the problem do the following:\n",
        "- First, work out your own solution to the problem.\n",
        "- Then compare your solution to the tester's solution \\\n",
        "and evaluate if the tester's solution is correct or not.\n",
        "Don't decide if the tester's solution is correct until\n",
        "you have done the problem yourself.\n",
        "\n",
        "Use the following format:\n",
        "Question:\n",
        "```\n",
        "question here\n",
        "```\n",
        "Tester's solution:\n",
        "```\n",
        "tester's solution here\n",
        "```\n",
        "Actual solution:\n",
        "```\n",
        "steps to work out the solution and your solution here\n",
        "```\n",
        "Is the testers's solution the same as actual solution \\\n",
        "just calculated:\n",
        "```\n",
        "yes or no\n",
        "```\n",
        "Result:\n",
        "```\n",
        "correct or incorrect\n",
        "```\n",
        "Reasoning:\n",
        "```\n",
        "If the answer is incorrect, why the answer is incorrect, in a series of bullet points\n",
        "```\n",
        "\n",
        "Question:\n",
        "```\n",
        "I'm testing the checkout screen for an ecommerce application and I need help \\\n",
        "working out the total cost including sales tax and postage.\n",
        "- item_prices = {item_prices}  # Prices of items in the cart\n",
        "- sales_tax_rate = {sales_tax_rate}\n",
        "- postage_cost = {postage_cost}\n",
        "What is the total cost at checkout?\n",
        "```\n",
        "Student's solution:\n",
        "```\n",
        "Costs:\n",
        "1. total items = 50 + 30 + 20: 100\n",
        "2. sales tax= 100 * 0.08: 8\n",
        "3. postage = 5\n",
        "```\n",
        "Total cost = 100 + 8 + 6: 115\n",
        "```\n",
        "Actual solution:\n",
        "\"\"\"\n",
        "response = get_completion(prompt)\n",
        "print(response)"
      ],
      "metadata": {
        "colab": {
          "base_uri": "https://localhost:8080/"
        },
        "id": "yyqTxsmfjMQu",
        "outputId": "a9b57ec5-d58c-4573-9bb0-8c9a2180995d"
      },
      "execution_count": null,
      "outputs": [
        {
          "output_type": "stream",
          "name": "stdout",
          "text": [
            "Question:\n",
            "```\n",
            "I'm testing the checkout screen for an ecommerce application and I need help working out the total cost including sales tax and postage.\n",
            "- item_prices = \n",
            "[50.00, 30.00, 20.00, 10.00] \n",
            "  # Prices of items in the cart\n",
            "- sales_tax_rate = \n",
            "0.08\n",
            "\n",
            "- postage_cost = \n",
            "5.00\n",
            "\n",
            "What is the total cost at checkout?\n",
            "```\n",
            "Tester's solution:\n",
            "```\n",
            "Costs:\n",
            "1. total items = 50 + 30 + 20: 100\n",
            "2. sales tax= 100 * 0.08: 8\n",
            "3. postage = 5\n",
            "Total cost = 100 + 8 + 6: 115\n",
            "```\n",
            "Actual solution:\n",
            "```\n",
            "1. Calculate the total price of items:\n",
            "   total_items = 50 + 30 + 20 + 10 = 110\n",
            "\n",
            "2. Calculate the sales tax:\n",
            "   sales_tax = total_items * sales_tax_rate = 110 * 0.08 = 8.8\n",
            "\n",
            "3. Add the postage cost:\n",
            "   total_cost = total_items + sales_tax + postage_cost = 110 + 8.8 + 5 = 123.8\n",
            "```\n",
            "Is the tester's solution the same as actual solution just calculated:\n",
            "```\n",
            "no\n",
            "```\n",
            "Result:\n",
            "```\n",
            "incorrect\n",
            "```\n",
            "Reasoning:\n",
            "```\n",
            "- The tester incorrectly calculated the total price of items by omitting the last item (10.00), leading to a total of 100 instead of 110.\n",
            "- The sales tax was calculated correctly based on the incorrect total of 100, resulting in a sales tax of 8 instead of 8.8.\n",
            "- The tester incorrectly added 6 instead of 5 for the postage cost in the final total calculation.\n",
            "- Therefore, the final total cost of 115 is incorrect; the correct total cost is 123.8.\n",
            "```\n"
          ]
        }
      ]
    },
    {
      "cell_type": "markdown",
      "source": [
        "## Trying to find Model Limitations\n"
      ],
      "metadata": {
        "id": "ZldnpL2EA8Y6"
      }
    },
    {
      "cell_type": "code",
      "source": [
        "prompt = f\"\"\"\n",
        "Tell me about the AI SuperNova product from IBM\n",
        "\"\"\"\n",
        "response = get_completion(prompt)\n",
        "print(response)"
      ],
      "metadata": {
        "id": "sCwZBbeGBAA4",
        "colab": {
          "base_uri": "https://localhost:8080/"
        },
        "outputId": "aacd4000-8d23-4475-b61f-515d2b675ab7"
      },
      "execution_count": null,
      "outputs": [
        {
          "output_type": "stream",
          "name": "stdout",
          "text": [
            "As of my last knowledge update in October 2023, IBM had not specifically released a product named \"AI SuperNova.\" However, IBM has been actively involved in the development and deployment of various AI technologies and solutions, particularly through its IBM Watson platform, which encompasses a range of AI services for businesses, including natural language processing, machine learning, and data analytics.\n",
            "\n",
            "If \"AI SuperNova\" is a new product or initiative that was announced after my last update, I would recommend checking IBM's official website or recent press releases for the most accurate and up-to-date information. IBM frequently updates its offerings and introduces new technologies, so it's possible that \"AI SuperNova\" could be a recent development in their AI portfolio.\n"
          ]
        }
      ]
    },
    {
      "cell_type": "code",
      "source": [
        "prompt = f\"\"\"\n",
        "Tell me about what James Bach loves about ISTQB\n",
        "\n",
        "Provide the output in consise bullet points.\n",
        "\"\"\"\n",
        "response = get_completion(prompt)\n",
        "print(response)"
      ],
      "metadata": {
        "colab": {
          "base_uri": "https://localhost:8080/"
        },
        "id": "zS0FyI2zWRIp",
        "outputId": "a3017112-8954-413c-f799-23e63dce4403"
      },
      "execution_count": null,
      "outputs": [
        {
          "output_type": "stream",
          "name": "stdout",
          "text": [
            "James Bach, a well-known figure in the software testing community, has expressed critical views about the ISTQB (International Software Testing Qualifications Board) certification. However, if we were to summarize what he might appreciate about ISTQB, it could include:\n",
            "\n",
            "- **Standardization**: ISTQB provides a standardized framework for software testing practices, which can help unify terminology and processes across teams.\n",
            "- **Foundation Knowledge**: The certification offers foundational knowledge that can be beneficial for beginners in the field of software testing.\n",
            "- **Global Recognition**: ISTQB is widely recognized and respected in the industry, which can enhance the credibility of certified testers.\n",
            "- **Structured Learning Path**: The certification offers a structured learning path, helping individuals progress from foundational to advanced levels in testing knowledge.\n",
            "- **Community and Networking**: Being part of the ISTQB community can provide networking opportunities with other professionals in the field.\n",
            "\n",
            "Please note that James Bach is generally more critical of ISTQB, focusing on its limitations and advocating for more practical, context-driven approaches to testing.\n"
          ]
        }
      ]
    },
    {
      "cell_type": "code",
      "source": [
        "prompt = f\"\"\"\n",
        "Tell me about what James Bach loves about ISTQB\n",
        "\n",
        "Do not speculate about his opinions\n",
        "\n",
        "Provide the response as a list of consise bullet points.\n",
        "\n",
        "\"\"\"\n",
        "response = get_completion(prompt)\n",
        "print(response)"
      ],
      "metadata": {
        "colab": {
          "base_uri": "https://localhost:8080/"
        },
        "id": "q_t7LFHCWsCN",
        "outputId": "5b9d41f3-faa4-4fd6-f175-89184d7a611c"
      },
      "execution_count": null,
      "outputs": [
        {
          "output_type": "stream",
          "name": "stdout",
          "text": [
            "James Bach has expressed several criticisms of the ISTQB (International Software Testing Qualifications Board) certification. Here are some key points reflecting his views:\n",
            "\n",
            "- **Focus on Theory**: He believes that ISTQB emphasizes theoretical knowledge over practical skills, which may not be beneficial for real-world testing scenarios.\n",
            "- **Standardization Issues**: Bach argues that the standardized approach of ISTQB can stifle creativity and adaptability in testing practices.\n",
            "- **Lack of Depth**: He feels that the certification does not delve deeply enough into the complexities of software testing.\n",
            "- **One-Size-Fits-All**: Bach criticizes the generic nature of the ISTQB syllabus, which may not cater to the specific needs of different organizations or projects.\n",
            "- **Limited Value**: He questions the overall value of the certification in terms of improving testing effectiveness or career advancement.\n",
            "- **Focus on Memorization**: Bach points out that the certification often requires rote memorization rather than fostering critical thinking and problem-solving skills.\n",
            "\n",
            "These points summarize his critical perspective on ISTQB without speculating on his opinions.\n"
          ]
        }
      ]
    },
    {
      "cell_type": "code",
      "source": [
        "prompt = f\"\"\"\n",
        "Tell me about the latest blog from Michael Bolton's website developsense\n",
        "\n",
        "\"\"\"\n",
        "response = get_completion(prompt)\n",
        "print(response)"
      ],
      "metadata": {
        "colab": {
          "base_uri": "https://localhost:8080/"
        },
        "id": "lpHmdKryXlNP",
        "outputId": "cf3da7fd-38e3-4e17-b863-11f578f9b237"
      },
      "execution_count": null,
      "outputs": [
        {
          "output_type": "stream",
          "name": "stdout",
          "text": [
            "I'm unable to access real-time data or browse the internet, including specific websites like Michael Bolton's. However, you can visit his official website or blog to find the latest updates and posts. If you have any specific questions about Michael Bolton or his work, feel free to ask!\n"
          ]
        }
      ]
    },
    {
      "cell_type": "code",
      "source": [],
      "metadata": {
        "id": "GIE_YNpSZTUh"
      },
      "execution_count": null,
      "outputs": []
    }
  ]
}