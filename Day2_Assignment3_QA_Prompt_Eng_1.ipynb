{
  "nbformat": 4,
  "nbformat_minor": 0,
  "metadata": {
    "colab": {
      "provenance": [],
      "gpuType": "T4",
      "include_colab_link": true
    },
    "kernelspec": {
      "name": "python3",
      "display_name": "Python 3"
    },
    "language_info": {
      "name": "python"
    },
    "accelerator": "GPU"
  },
  "cells": [
    {
      "cell_type": "markdown",
      "metadata": {
        "id": "view-in-github",
        "colab_type": "text"
      },
      "source": [
        "<a href=\"https://colab.research.google.com/github/SharonOBoyle/AI-Launchpad/blob/main/Day2_Assignment3_QA_Prompt_Eng_1.ipynb\" target=\"_parent\"><img src=\"https://colab.research.google.com/assets/colab-badge.svg\" alt=\"Open In Colab\"/></a>"
      ]
    },
    {
      "cell_type": "markdown",
      "source": [
        "# **Assignment 3**\n",
        "\n",
        "Change the prompts In QA format for code in file https://github.com/toni-ramchandani/AIMasterClassTTT/blob/main/Section_7-1_Prompt_Eng_1.ipynb\n"
      ],
      "metadata": {
        "id": "UL2kDsB2Qr-5"
      }
    },
    {
      "cell_type": "code",
      "source": [
        "!pip install openai==0.28"
      ],
      "metadata": {
        "colab": {
          "base_uri": "https://localhost:8080/"
        },
        "id": "L65LO8WItKj0",
        "outputId": "62d7ea17-1a42-4e1e-9cbb-38ec9835308d"
      },
      "execution_count": 1,
      "outputs": [
        {
          "output_type": "stream",
          "name": "stdout",
          "text": [
            "Collecting openai==0.28\n",
            "  Downloading openai-0.28.0-py3-none-any.whl.metadata (13 kB)\n",
            "Requirement already satisfied: requests>=2.20 in /usr/local/lib/python3.10/dist-packages (from openai==0.28) (2.32.3)\n",
            "Requirement already satisfied: tqdm in /usr/local/lib/python3.10/dist-packages (from openai==0.28) (4.66.6)\n",
            "Requirement already satisfied: aiohttp in /usr/local/lib/python3.10/dist-packages (from openai==0.28) (3.11.9)\n",
            "Requirement already satisfied: charset-normalizer<4,>=2 in /usr/local/lib/python3.10/dist-packages (from requests>=2.20->openai==0.28) (3.4.0)\n",
            "Requirement already satisfied: idna<4,>=2.5 in /usr/local/lib/python3.10/dist-packages (from requests>=2.20->openai==0.28) (3.10)\n",
            "Requirement already satisfied: urllib3<3,>=1.21.1 in /usr/local/lib/python3.10/dist-packages (from requests>=2.20->openai==0.28) (2.2.3)\n",
            "Requirement already satisfied: certifi>=2017.4.17 in /usr/local/lib/python3.10/dist-packages (from requests>=2.20->openai==0.28) (2024.8.30)\n",
            "Requirement already satisfied: aiohappyeyeballs>=2.3.0 in /usr/local/lib/python3.10/dist-packages (from aiohttp->openai==0.28) (2.4.4)\n",
            "Requirement already satisfied: aiosignal>=1.1.2 in /usr/local/lib/python3.10/dist-packages (from aiohttp->openai==0.28) (1.3.1)\n",
            "Requirement already satisfied: async-timeout<6.0,>=4.0 in /usr/local/lib/python3.10/dist-packages (from aiohttp->openai==0.28) (4.0.3)\n",
            "Requirement already satisfied: attrs>=17.3.0 in /usr/local/lib/python3.10/dist-packages (from aiohttp->openai==0.28) (24.2.0)\n",
            "Requirement already satisfied: frozenlist>=1.1.1 in /usr/local/lib/python3.10/dist-packages (from aiohttp->openai==0.28) (1.5.0)\n",
            "Requirement already satisfied: multidict<7.0,>=4.5 in /usr/local/lib/python3.10/dist-packages (from aiohttp->openai==0.28) (6.1.0)\n",
            "Requirement already satisfied: propcache>=0.2.0 in /usr/local/lib/python3.10/dist-packages (from aiohttp->openai==0.28) (0.2.1)\n",
            "Requirement already satisfied: yarl<2.0,>=1.17.0 in /usr/local/lib/python3.10/dist-packages (from aiohttp->openai==0.28) (1.18.3)\n",
            "Requirement already satisfied: typing-extensions>=4.1.0 in /usr/local/lib/python3.10/dist-packages (from multidict<7.0,>=4.5->aiohttp->openai==0.28) (4.12.2)\n",
            "Downloading openai-0.28.0-py3-none-any.whl (76 kB)\n",
            "\u001b[2K   \u001b[90m━━━━━━━━━━━━━━━━━━━━━━━━━━━━━━━━━━━━━━━━\u001b[0m \u001b[32m76.5/76.5 kB\u001b[0m \u001b[31m3.4 MB/s\u001b[0m eta \u001b[36m0:00:00\u001b[0m\n",
            "\u001b[?25hInstalling collected packages: openai\n",
            "  Attempting uninstall: openai\n",
            "    Found existing installation: openai 1.54.5\n",
            "    Uninstalling openai-1.54.5:\n",
            "      Successfully uninstalled openai-1.54.5\n",
            "Successfully installed openai-0.28.0\n"
          ]
        }
      ]
    },
    {
      "cell_type": "code",
      "source": [
        "import openai\n",
        "import os\n",
        "import time\n",
        "\n",
        "from google.colab import userdata\n",
        "\n",
        "\n",
        "openai.api_key  = userdata.get('OpenAI-Key')"
      ],
      "metadata": {
        "id": "12WLF6e9_zuv"
      },
      "execution_count": 2,
      "outputs": []
    },
    {
      "cell_type": "markdown",
      "source": [
        "#### helper function\n",
        "Throughout this course, we will use OpenAI's `gpt-3.5-turbo` model and the [chat completions endpoint](https://platform.openai.com/docs/guides/chat).\n",
        "\n",
        "This helper function will make it easier to use prompts and look at the generated outputs:"
      ],
      "metadata": {
        "id": "kcgEj0dA_5gn"
      }
    },
    {
      "cell_type": "code",
      "source": [
        "def get_completion(prompt, model=\"gpt-4o-mini\"):\n",
        "    messages = [{\"role\": \"user\", \"content\": prompt}]\n",
        "    # Add a delay before making the API call to prevent RateLimitError\n",
        "    time.sleep(10)  # Wait for 10 seconds\n",
        "    response = openai.ChatCompletion.create(\n",
        "        model=model,\n",
        "        messages=messages,\n",
        "        temperature=0, # this is the degree of randomness of the model's output\n",
        "    )\n",
        "    return response.choices[0].message[\"content\"]"
      ],
      "metadata": {
        "id": "jQV3FEV9_9zl"
      },
      "execution_count": 3,
      "outputs": []
    },
    {
      "cell_type": "markdown",
      "source": [
        "## Prompting Principles\n",
        "- **Principle 1: Write clear and specific instructions**\n",
        "- **Principle 2: Give the model time to “think”**\n",
        "\n",
        "### Tactics\n",
        "\n",
        "### Principle 1: Write clear and specific instructions\n",
        "#### Tactic 1: Use delimiters to clearly indicate distinct parts of the input\n",
        "- Delimiters can be anything like: ```, \"\"\", < >, `<tag> </tag>`, `:`"
      ],
      "metadata": {
        "id": "5GWLzbFcAFSg"
      }
    },
    {
      "cell_type": "code",
      "source": [
        "text = f\"\"\"\n",
        "At the Pacific Northwest Software Quality Conference in October 2024, I gave a keynote presentation titled “What Are We Thinking in the Age of AI?“\n",
        "\n",
        "There’s a lot to think about, and for testers, there’s a lot to do. For one, we need to understand the basis for the “AI” claim. Any kind of software can be marketed as “AI”, since it’s doing something that (presumably) a human could do, at least in theory, given time and resources. So we must consider the scope and risk associated with the AI claim, as an extra element in the general scope and risk for the product.\n",
        "\n",
        "AI comes with special problems: algorithmic obscurity; radical fragility; claims that are even more wishful than usual; social intrusiveness; from executives and managers with FOMO, corporate defensiveness; and from the non-critical AI fanboys, social aggressiveness. The notes provide more details.\n",
        "\n",
        "One of the most important points is that — as with all software — we cannot treat a demonstration of a happy outcome as evidence of reliability and validity. A demonstration is not a test. In the notes, there are examples of how James Bach and I have tested various LLM-based products.\n",
        "\n",
        "There’s also a page — soon to be expanded to a blog post — on circumstances in which AI might be safely and reasonably useful.\n",
        "\"\"\"\n",
        "prompt = f\"\"\"\n",
        "Summarize the text delimited by < > \\\n",
        "into a single sentence.\n",
        "<{text}>\n",
        "\"\"\"\n",
        "response = get_completion(prompt)\n",
        "print(response)"
      ],
      "metadata": {
        "id": "8q8gh5geAH3U",
        "colab": {
          "base_uri": "https://localhost:8080/"
        },
        "outputId": "4dc3a395-5a3d-4044-921a-614233245863"
      },
      "execution_count": 4,
      "outputs": [
        {
          "output_type": "stream",
          "name": "stdout",
          "text": [
            "At the Pacific Northwest Software Quality Conference in October 2024, I presented a keynote on the complexities and risks of AI in software testing, emphasizing the need for critical evaluation of AI claims and the distinction between demonstrations and actual testing for reliability and validity.\n"
          ]
        }
      ]
    },
    {
      "cell_type": "markdown",
      "source": [
        "#### Tactic 2: Ask for a structured output\n",
        "- JSON, HTML"
      ],
      "metadata": {
        "id": "W17RwlNeAL6U"
      }
    },
    {
      "cell_type": "code",
      "source": [
        "prompt = f\"\"\"\n",
        "Generate a list of three IPv4 addresses for testing a security incident platform along \\\n",
        "with realistic suspicious data values.\n",
        "Provide them in JSON format with the following keys:\n",
        "name, type, value, suspicious_data.\n",
        "\"\"\"\n",
        "response = get_completion(prompt)\n",
        "print(response)"
      ],
      "metadata": {
        "id": "pI6Tz4beAPl0",
        "colab": {
          "base_uri": "https://localhost:8080/"
        },
        "outputId": "a4f752e1-9406-48cd-9aba-edde5f4f9f07"
      },
      "execution_count": 5,
      "outputs": [
        {
          "output_type": "stream",
          "name": "stdout",
          "text": [
            "Here is a JSON representation of three IPv4 addresses along with realistic suspicious data values for testing a security incident platform:\n",
            "\n",
            "```json\n",
            "[\n",
            "    {\n",
            "        \"name\": \"Suspicious IP 1\",\n",
            "        \"type\": \"IPv4\",\n",
            "        \"value\": \"192.168.1.10\",\n",
            "        \"suspicious_data\": {\n",
            "            \"last_seen\": \"2023-10-01T14:32:00Z\",\n",
            "            \"malware_detected\": true,\n",
            "            \"connection_attempts\": 15,\n",
            "            \"geo_location\": \"Unknown\",\n",
            "            \"associated_domains\": [\"malicious-site.com\", \"phishing-site.net\"]\n",
            "        }\n",
            "    },\n",
            "    {\n",
            "        \"name\": \"Suspicious IP 2\",\n",
            "        \"type\": \"IPv4\",\n",
            "        \"value\": \"10.0.0.5\",\n",
            "        \"suspicious_data\": {\n",
            "            \"last_seen\": \"2023-10-02T09:15:00Z\",\n",
            "            \"malware_detected\": false,\n",
            "            \"connection_attempts\": 30,\n",
            "            \"geo_location\": \"USA\",\n",
            "            \"associated_domains\": [\"suspicious-domain.org\"]\n",
            "        }\n",
            "    },\n",
            "    {\n",
            "        \"name\": \"Suspicious IP 3\",\n",
            "        \"type\": \"IPv4\",\n",
            "        \"value\": \"172.16.254.1\",\n",
            "        \"suspicious_data\": {\n",
            "            \"last_seen\": \"2023-10-03T11:45:00Z\",\n",
            "            \"malware_detected\": true,\n",
            "            \"connection_attempts\": 50,\n",
            "            \"geo_location\": \"Russia\",\n",
            "            \"associated_domains\": [\"unknown-site.ru\", \"malware-hosting.com\"]\n",
            "        }\n",
            "    }\n",
            "]\n",
            "```\n",
            "\n",
            "This JSON structure includes three entries, each with an IPv4 address and associated suspicious data that could be relevant for a security incident platform.\n"
          ]
        }
      ]
    },
    {
      "cell_type": "markdown",
      "source": [
        "#### Tactic 3: Ask the model to check whether conditions are satisfied"
      ],
      "metadata": {
        "id": "wwOWU_quATVi"
      }
    },
    {
      "cell_type": "code",
      "source": [
        "text = f\"\"\"\n",
        "To create a bug ticket in Jira, log in to your Jira \\\n",
        "instance and navigate to the appropriate project. \\\n",
        "Click on the \"Create\" button to open the ticket creation form. \\\n",
        "Select \"Bug\" as the issue type. \\\n",
        "Provide a clear and concise summary of the bug in the Summary field, \\\n",
        "and include detailed steps to reproduce the issue in the Description field, \\\n",
        "along with the expected and actual results. \\\n",
        "Assign a priority level (e.g., Critical, Major, Minor) \\\n",
        "and, if applicable, assign the bug to a team member. \\\n",
        "Add any relevant attachments, such as screenshots or logs, \\\n",
        "and label or link the issue to related tasks or components. \\\n",
        "Finally, click \"Create\" to save and submit the ticket. \\\n",
        "\"\"\"\n",
        "\n",
        "prompt = f\"\"\"\n",
        "You will be provided with text delimited by triple quotes.\n",
        "If it contains a sequence of instructions, \\\n",
        "re-write those instructions in the following format:\n",
        "\n",
        "Step 1 - ...\n",
        "Step 2 - …\n",
        "…\n",
        "Step N - …\n",
        "\n",
        "If the text does not contain a sequence of instructions, \\\n",
        "then simply write \\\"No steps provided.\\\"\n",
        "\n",
        "\\\"\\\"\\\"{text}\\\"\\\"\\\"\n",
        "\"\"\"\n",
        "response = get_completion(prompt)\n",
        "print(\"Completion for Text:\")\n",
        "print(response)"
      ],
      "metadata": {
        "id": "LTyp5F-LAV7h",
        "colab": {
          "base_uri": "https://localhost:8080/"
        },
        "outputId": "150488c9-c710-4a0e-a3c3-b7d722142ba5"
      },
      "execution_count": 6,
      "outputs": [
        {
          "output_type": "stream",
          "name": "stdout",
          "text": [
            "Completion for Text:\n",
            "Step 1 - Log in to your Jira instance and navigate to the appropriate project.  \n",
            "Step 2 - Click on the \"Create\" button to open the ticket creation form.  \n",
            "Step 3 - Select \"Bug\" as the issue type.  \n",
            "Step 4 - Provide a clear and concise summary of the bug in the Summary field.  \n",
            "Step 5 - Include detailed steps to reproduce the issue in the Description field, along with the expected and actual results.  \n",
            "Step 6 - Assign a priority level (e.g., Critical, Major, Minor).  \n",
            "Step 7 - If applicable, assign the bug to a team member.  \n",
            "Step 8 - Add any relevant attachments, such as screenshots or logs.  \n",
            "Step 9 - Label or link the issue to related tasks or components.  \n",
            "Step 10 - Click \"Create\" to save and submit the ticket.  \n"
          ]
        }
      ]
    },
    {
      "cell_type": "code",
      "source": [
        "text_2 = f\"\"\"\n",
        "At the Pacific Northwest Software Quality Conference in October 2024,\n",
        "I gave a keynote presentation titled “What Are We Thinking in the Age of AI?“\n",
        "There’s a lot to think about, and for testers, there’s a lot to do. For\n",
        "one, we need to understand the basis for the “AI” claim. Any kind of software\n",
        "can be marketed as “AI”, since it’s doing something that (presumably) a human\n",
        "could do, at least in theory, given time and resources. So we must consider\n",
        "the scope and risk associated with the AI claim, as an extra element in the\n",
        "general scope and risk for the product.\n",
        "\n",
        "AI comes with special problems: algorithmic obscurity; radical fragility; claims\n",
        " that are even more wishful than usual; social intrusiveness; from executives\n",
        " and managers with FOMO, corporate defensiveness; and from the non-critical AI\n",
        " fanboys, social aggressiveness. The notes provide more details.\n",
        "\n",
        "One of the most important points is that — as with all software — we cannot\n",
        "treat a demonstration of a happy outcome as evidence of reliability and\n",
        "validity. A demonstration is not a test. In the notes, there are examples of\n",
        "how James Bach and I have tested various LLM-based products.\n",
        "\n",
        "There’s also a page — soon to be expanded to a blog post — on circumstances\n",
        "in which AI might be safely and reasonably useful.\n",
        "\"\"\"\n",
        "prompt = f\"\"\"\n",
        "You will be provided with text delimited by triple quotes.\n",
        "If it contains a sequence of instructions, \\\n",
        "re-write those instructions in the following format:\n",
        "\n",
        "Step 1 - ...\n",
        "Step 2 - …\n",
        "…\n",
        "Step N - …\n",
        "\n",
        "If the text does not contain a sequence of instructions, \\\n",
        "then simply write \\\"No steps provided.\\\"\n",
        "\n",
        "\\\"\\\"\\\"{text_2}\\\"\\\"\\\"\n",
        "\"\"\"\n",
        "response = get_completion(prompt)\n",
        "print(\"Completion for Text 2:\")\n",
        "print(response)"
      ],
      "metadata": {
        "id": "4kKcajHLAY0E",
        "colab": {
          "base_uri": "https://localhost:8080/"
        },
        "outputId": "468d86f4-9cfa-45c9-ede0-0f56aba479d6"
      },
      "execution_count": 7,
      "outputs": [
        {
          "output_type": "stream",
          "name": "stdout",
          "text": [
            "Completion for Text 2:\n",
            "No steps provided.\n"
          ]
        }
      ]
    },
    {
      "cell_type": "markdown",
      "source": [
        "#### Tactic 4: \"Few-shot\" prompting"
      ],
      "metadata": {
        "id": "9SkdYATrAcAH"
      }
    },
    {
      "cell_type": "code",
      "source": [
        "prompt = f\"\"\"\n",
        "Your task is to create test scenarios for an e-commerce checkout system\n",
        "\n",
        "<Example_1>:\n",
        "Feature: Checkout Flow\n",
        "Scenario: Verify that a user can complete a purchase using a credit card.\n",
        "Steps:\n",
        "1. Add a product to the cart.\n",
        "2. Proceed to the checkout page.\n",
        "3. Enter valid shipping details.\n",
        "4. Select \"Credit Card\" as the payment method and enter valid payment details.\n",
        "5. Complete the purchase.\n",
        "Expected Result: The user receives an order confirmation message and email.\n",
        "\n",
        "Create another example scenario.\n",
        "\"\"\"\n",
        "response = get_completion(prompt)\n",
        "print(response)"
      ],
      "metadata": {
        "id": "BCGJJTHPAeAD",
        "colab": {
          "base_uri": "https://localhost:8080/"
        },
        "outputId": "521df2a1-b734-4493-982d-70d820fa64e5"
      },
      "execution_count": 8,
      "outputs": [
        {
          "output_type": "stream",
          "name": "stdout",
          "text": [
            "Feature: Checkout Flow  \n",
            "Scenario: Verify that a user cannot complete a purchase with an expired credit card.  \n",
            "Steps:  \n",
            "1. Add a product to the cart.  \n",
            "2. Proceed to the checkout page.  \n",
            "3. Enter valid shipping details.  \n",
            "4. Select \"Credit Card\" as the payment method and enter expired credit card details.  \n",
            "5. Attempt to complete the purchase.  \n",
            "Expected Result: The user receives an error message indicating that the credit card is expired and is prompted to enter valid payment details.\n"
          ]
        }
      ]
    },
    {
      "cell_type": "markdown",
      "source": [
        "### Principle 2: Give the model time to “think”\n",
        "\n",
        "#### Tactic 1: Specify the steps required to complete a task"
      ],
      "metadata": {
        "id": "pjswK-IjAisD"
      }
    },
    {
      "cell_type": "code",
      "source": [
        "text = f\"\"\"\n",
        "Feature: Checkout Flow\n",
        "Scenario: Verify that a user cannot complete a purchase with an expired credit card.\n",
        "Steps:\n",
        "1. Add a product to the cart.\n",
        "2. Proceed to the checkout page.\n",
        "3. Enter valid shipping details.\n",
        "4. Select \"Credit Card\" as the payment method and enter expired credit card details.\n",
        "5. Attempt to complete the purchase.\n",
        "Expected Result: The user receives an error message indicating that the credit card is expired and is prompted to enter valid payment details.\n",
        "\"\"\"\n",
        "# example 1\n",
        "prompt_1 = f\"\"\"\n",
        "Perform the following actions:\n",
        "1 - Change the following test scenario delimited by triple \\\n",
        "backticks to BDD format.\n",
        "2 - Generate selenium code for the test scenario, for a Groovy Selenium project.\n",
        "3 - Refactor the selenium code for page object model design pattern.\n",
        "\n",
        "Separate your answers with line breaks.\n",
        "\n",
        "Text:\n",
        "```{text}```\n",
        "\"\"\"\n",
        "response = get_completion(prompt_1)\n",
        "print(\"Completion for prompt 1:\")\n",
        "print(response)"
      ],
      "metadata": {
        "id": "dCFByJ0HAk_o",
        "colab": {
          "base_uri": "https://localhost:8080/"
        },
        "outputId": "16fdedad-3e6a-4b9a-a690-667213e7fa20"
      },
      "execution_count": 10,
      "outputs": [
        {
          "output_type": "stream",
          "name": "stdout",
          "text": [
            "Completion for prompt 1:\n",
            "1. **BDD Format:**\n",
            "\n",
            "```gherkin\n",
            "Feature: Checkout Flow\n",
            "\n",
            "  Scenario: User cannot complete a purchase with an expired credit card\n",
            "    Given the user has added a product to the cart\n",
            "    When the user proceeds to the checkout page\n",
            "    And the user enters valid shipping details\n",
            "    And the user selects \"Credit Card\" as the payment method\n",
            "    And the user enters expired credit card details\n",
            "    Then the user should receive an error message indicating that the credit card is expired\n",
            "    And the user should be prompted to enter valid payment details\n",
            "```\n",
            "\n",
            "2. **Selenium Code for the Test Scenario (Groovy):**\n",
            "\n",
            "```groovy\n",
            "import org.openqa.selenium.By\n",
            "import org.openqa.selenium.WebDriver\n",
            "import org.openqa.selenium.WebElement\n",
            "import org.openqa.selenium.chrome.ChromeDriver\n",
            "\n",
            "WebDriver driver = new ChromeDriver()\n",
            "\n",
            "// Step 1: Add a product to the cart\n",
            "driver.get(\"http://example.com/product-page\")\n",
            "WebElement addToCartButton = driver.findElement(By.id(\"add-to-cart\"))\n",
            "addToCartButton.click()\n",
            "\n",
            "// Step 2: Proceed to the checkout page\n",
            "WebElement checkoutButton = driver.findElement(By.id(\"checkout\"))\n",
            "checkoutButton.click()\n",
            "\n",
            "// Step 3: Enter valid shipping details\n",
            "WebElement shippingAddress = driver.findElement(By.id(\"shipping-address\"))\n",
            "shippingAddress.sendKeys(\"123 Main St, Anytown, USA\")\n",
            "\n",
            "// Step 4: Select \"Credit Card\" as the payment method and enter expired credit card details\n",
            "WebElement paymentMethod = driver.findElement(By.id(\"payment-method-credit-card\"))\n",
            "paymentMethod.click()\n",
            "WebElement cardNumber = driver.findElement(By.id(\"card-number\"))\n",
            "cardNumber.sendKeys(\"4111111111111111\") // Example card number\n",
            "WebElement expiryDate = driver.findElement(By.id(\"expiry-date\"))\n",
            "expiryDate.sendKeys(\"01/20\") // Expired date\n",
            "\n",
            "// Step 5: Attempt to complete the purchase\n",
            "WebElement purchaseButton = driver.findElement(By.id(\"complete-purchase\"))\n",
            "purchaseButton.click()\n",
            "\n",
            "// Expected Result: Check for error message\n",
            "WebElement errorMessage = driver.findElement(By.id(\"error-message\"))\n",
            "assert errorMessage.getText().contains(\"credit card is expired\")\n",
            "\n",
            "driver.quit()\n",
            "```\n",
            "\n",
            "3. **Refactored Selenium Code for Page Object Model Design Pattern:**\n",
            "\n",
            "```groovy\n",
            "import org.openqa.selenium.By\n",
            "import org.openqa.selenium.WebDriver\n",
            "import org.openqa.selenium.WebElement\n",
            "import org.openqa.selenium.chrome.ChromeDriver\n",
            "\n",
            "class ProductPage {\n",
            "    WebDriver driver\n",
            "\n",
            "    ProductPage(WebDriver driver) {\n",
            "        this.driver = driver\n",
            "    }\n",
            "\n",
            "    void addToCart() {\n",
            "        WebElement addToCartButton = driver.findElement(By.id(\"add-to-cart\"))\n",
            "        addToCartButton.click()\n",
            "    }\n",
            "}\n",
            "\n",
            "class CheckoutPage {\n",
            "    WebDriver driver\n",
            "\n",
            "    CheckoutPage(WebDriver driver) {\n",
            "        this.driver = driver\n",
            "    }\n",
            "\n",
            "    void enterShippingDetails(String address) {\n",
            "        WebElement shippingAddress = driver.findElement(By.id(\"shipping-address\"))\n",
            "        shippingAddress.sendKeys(address)\n",
            "    }\n",
            "\n",
            "    void selectCreditCardPayment() {\n",
            "        WebElement paymentMethod = driver.findElement(By.id(\"payment-method-credit-card\"))\n",
            "        paymentMethod.click()\n",
            "    }\n",
            "\n",
            "    void enterExpiredCardDetails(String cardNumber, String expiryDate) {\n",
            "        WebElement cardNumberField = driver.findElement(By.id(\"card-number\"))\n",
            "        cardNumberField.sendKeys(cardNumber)\n",
            "        WebElement expiryDateField = driver.findElement(By.id(\"expiry-date\"))\n",
            "        expiryDateField.sendKeys(expiryDate)\n",
            "    }\n",
            "\n",
            "    void completePurchase() {\n",
            "        WebElement purchaseButton = driver.findElement(By.id(\"complete-purchase\"))\n",
            "        purchaseButton.click()\n",
            "    }\n",
            "\n",
            "    String getErrorMessage() {\n",
            "        WebElement errorMessage = driver.findElement(By.id(\"error-message\"))\n",
            "        return errorMessage.getText()\n",
            "    }\n",
            "}\n",
            "\n",
            "// Test Execution\n",
            "WebDriver driver = new ChromeDriver()\n",
            "driver.get(\"http://example.com/product-page\")\n",
            "\n",
            "ProductPage productPage = new ProductPage(driver)\n",
            "productPage.addToCart()\n",
            "\n",
            "CheckoutPage checkoutPage = new CheckoutPage(driver)\n",
            "checkoutPage.enterShippingDetails(\"123 Main St, Anytown, USA\")\n",
            "checkoutPage.selectCreditCardPayment()\n",
            "checkoutPage.enterExpiredCardDetails(\"4111111111111111\", \"01/20\")\n",
            "checkoutPage.completePurchase()\n",
            "\n",
            "assert checkoutPage.getErrorMessage().contains(\"credit card is expired\")\n",
            "\n",
            "driver.quit()\n",
            "```\n"
          ]
        }
      ]
    },
    {
      "cell_type": "markdown",
      "source": [
        "#### Ask for output in a specified format"
      ],
      "metadata": {
        "id": "ERn00uD2AqRF"
      }
    },
    {
      "cell_type": "code",
      "source": [
        "prompt_2 = f\"\"\"\n",
        "Your task is to perform the following actions:\n",
        "1 - Summarize the following text delimited by\n",
        "  <> with 1 sentence.\n",
        "2 - Translate the summary into French.\n",
        "3 - List each name in the French summary.\n",
        "4 - Output a json object that contains the\n",
        "  following keys: french_summary, num_names.\n",
        "\n",
        "Use the following format:\n",
        "Text: <text to summarize>\n",
        "Summary: <summary>\n",
        "Translation: <summary translation>\n",
        "Names: <list of names in Italian summary>\n",
        "Output JSON: <json with summary and num_names>\n",
        "\n",
        "Text: <{text}>\n",
        "\"\"\"\n",
        "response = get_completion(prompt_2)\n",
        "print(\"\\nCompletion for prompt 2:\")\n",
        "print(response)"
      ],
      "metadata": {
        "id": "OotovChsAshF",
        "colab": {
          "base_uri": "https://localhost:8080/"
        },
        "outputId": "60de4e38-aba9-4fc1-dd7d-4395748002e7"
      },
      "execution_count": null,
      "outputs": [
        {
          "output_type": "stream",
          "name": "stdout",
          "text": [
            "\n",
            "Completion for prompt 2:\n",
            "Summary: Siblings Jack and Jill embark on a joyful quest to fetch water but face misfortune when Jack falls down the hill, yet they return home undeterred and continue their adventures.  \n",
            "Translation: Les frères et sœurs Jack et Jill se lancent dans une quête joyeuse pour chercher de l'eau mais font face à un malheur lorsque Jack tombe de la colline, mais ils rentrent chez eux sans se décourager et continuent leurs aventures.  \n",
            "Names: [Jack, Jill]  \n",
            "Output JSON: {\"french_summary\":\"Les frères et sœurs Jack et Jill se lancent dans une quête joyeuse pour chercher de l'eau mais font face à un malheur lorsque Jack tombe de la colline, mais ils rentrent chez eux sans se décourager et continuent leurs aventures.\",\"num_names\":2}\n"
          ]
        }
      ]
    },
    {
      "cell_type": "markdown",
      "source": [
        "#### Tactic 2: Instruct the model to work out its own solution before rushing to a conclusion"
      ],
      "metadata": {
        "id": "zJvwvtopAvk3"
      }
    },
    {
      "cell_type": "code",
      "source": [
        "prompt = f\"\"\"\n",
        "Determine if the student's solution is correct or not.\n",
        "\n",
        "Question:\n",
        "I'm building a solar power installation and I need \\\n",
        " help working out the financials.\n",
        "- Land costs $100 / square foot\n",
        "- I can buy solar panels for $250 / square foot\n",
        "- I negotiated a contract for maintenance that will cost \\\n",
        "me a flat $100k per year, and an additional $10 / square \\\n",
        "foot\n",
        "What is the total cost for the first year of operations\n",
        "as a function of the number of square feet.\n",
        "\n",
        "Student's Solution:\n",
        "Let x be the size of the installation in square feet.\n",
        "Costs:\n",
        "1. Land cost: 100x\n",
        "2. Solar panel cost: 250x\n",
        "3. Maintenance cost: 100,000 + 100x\n",
        "Total cost: 100x + 250x + 100,000 + 100x = 450x + 100,000\n",
        "\"\"\"\n",
        "response = get_completion(prompt)\n",
        "print(response)"
      ],
      "metadata": {
        "id": "ncINy2wkAytb",
        "colab": {
          "base_uri": "https://localhost:8080/"
        },
        "outputId": "a8ef2f1f-1859-4e45-9fad-8a0fdf3253d9"
      },
      "execution_count": null,
      "outputs": [
        {
          "output_type": "stream",
          "name": "stdout",
          "text": [
            "The student's solution is mostly correct, but there is a small error in the calculation of the maintenance cost. Let's break it down step by step.\n",
            "\n",
            "1. **Land cost**: The cost of land is $100 per square foot, so for \\( x \\) square feet, the cost is:\n",
            "   \\[\n",
            "   100x\n",
            "   \\]\n",
            "\n",
            "2. **Solar panel cost**: The cost of solar panels is $250 per square foot, so for \\( x \\) square feet, the cost is:\n",
            "   \\[\n",
            "   250x\n",
            "   \\]\n",
            "\n",
            "3. **Maintenance cost**: The maintenance cost consists of a flat fee of $100,000 plus an additional $10 per square foot. Therefore, for \\( x \\) square feet, the maintenance cost is:\n",
            "   \\[\n",
            "   100,000 + 10x\n",
            "   \\]\n",
            "\n",
            "Now, we can combine all these costs to find the total cost for the first year of operations as a function of the number of square feet \\( x \\):\n",
            "\\[\n",
            "\\text{Total cost} = \\text{Land cost} + \\text{Solar panel cost} + \\text{Maintenance cost}\n",
            "\\]\n",
            "\\[\n",
            "\\text{Total cost} = 100x + 250x + (100,000 + 10x)\n",
            "\\]\n",
            "\\[\n",
            "\\text{Total cost} = 100x + 250x + 100,000 + 10x\n",
            "\\]\n",
            "\\[\n",
            "\\text{Total cost} = (100x + 250x + 10x) + 100,000\n",
            "\\]\n",
            "\\[\n",
            "\\text{Total cost} = 360x + 100,000\n",
            "\\]\n",
            "\n",
            "The student's final expression was \\( 450x + 100,000 \\), which is incorrect. The correct total cost for the first year of operations as a function of the number of square feet \\( x \\) is:\n",
            "\\[\n",
            "\\text{Total cost} = 360x + 100,000\n",
            "\\]\n",
            "\n",
            "In conclusion, the student's solution is incorrect due to the miscalculation of the maintenance cost. The correct total cost should be \\( 360x + 100,000 \\).\n"
          ]
        }
      ]
    },
    {
      "cell_type": "markdown",
      "source": [
        "#### Note that the student's solution is actually not correct.\n",
        "#### We can fix this by instructing the model to work out its own solution first."
      ],
      "metadata": {
        "id": "oKon0Aj3A2b3"
      }
    },
    {
      "cell_type": "code",
      "source": [
        "prompt = f\"\"\"\n",
        "Your task is to determine if the student's solution \\\n",
        "is correct or not.\n",
        "To solve the problem do the following:\n",
        "- First, work out your own solution to the problem.\n",
        "- Then compare your solution to the student's solution \\\n",
        "and evaluate if the student's solution is correct or not.\n",
        "Don't decide if the student's solution is correct until\n",
        "you have done the problem yourself.\n",
        "\n",
        "Use the following format:\n",
        "Question:\n",
        "```\n",
        "question here\n",
        "```\n",
        "Student's solution:\n",
        "```\n",
        "student's solution here\n",
        "```\n",
        "Actual solution:\n",
        "```\n",
        "steps to work out the solution and your solution here\n",
        "```\n",
        "Is the student's solution the same as actual solution \\\n",
        "just calculated:\n",
        "```\n",
        "yes or no\n",
        "```\n",
        "Student grade:\n",
        "```\n",
        "correct or incorrect\n",
        "```\n",
        "\n",
        "Question:\n",
        "```\n",
        "I'm building a solar power installation and I need help \\\n",
        "working out the financials.\n",
        "- Land costs $100 / square foot\n",
        "- I can buy solar panels for $250 / square foot\n",
        "- I negotiated a contract for maintenance that will cost \\\n",
        "me a flat $100k per year, and an additional $10 / square \\\n",
        "foot\n",
        "What is the total cost for the first year of operations \\\n",
        "as a function of the number of square feet.\n",
        "```\n",
        "Student's solution:\n",
        "```\n",
        "Let x be the size of the installation in square feet.\n",
        "Costs:\n",
        "1. Land cost: 100x\n",
        "2. Solar panel cost: 250x\n",
        "3. Maintenance cost: 100,000 + 100x\n",
        "Total cost: 100x + 250x + 100,000 + 100x = 450x + 100,000\n",
        "```\n",
        "Actual solution:\n",
        "\"\"\"\n",
        "response = get_completion(prompt)\n",
        "print(response)"
      ],
      "metadata": {
        "id": "XWVltxA2A4tv",
        "colab": {
          "base_uri": "https://localhost:8080/"
        },
        "outputId": "9de5f85a-9809-4d1a-8fca-983aa5f18a80"
      },
      "execution_count": null,
      "outputs": [
        {
          "output_type": "stream",
          "name": "stdout",
          "text": [
            "To solve the problem, we need to calculate the total cost for the first year of operations based on the given costs per square foot and the fixed maintenance cost.\n",
            "\n",
            "1. **Define the variable**: Let \\( x \\) be the size of the installation in square feet.\n",
            "\n",
            "2. **Calculate the costs**:\n",
            "   - **Land cost**: The cost of land is $100 per square foot, so for \\( x \\) square feet, the land cost is:\n",
            "     \\[\n",
            "     \\text{Land cost} = 100x\n",
            "     \\]\n",
            "   - **Solar panel cost**: The cost of solar panels is $250 per square foot, so for \\( x \\) square feet, the solar panel cost is:\n",
            "     \\[\n",
            "     \\text{Solar panel cost} = 250x\n",
            "     \\]\n",
            "   - **Maintenance cost**: The maintenance cost consists of a flat fee of $100,000 plus an additional $10 per square foot. Therefore, the maintenance cost is:\n",
            "     \\[\n",
            "     \\text{Maintenance cost} = 100,000 + 10x\n",
            "     \\]\n",
            "\n",
            "3. **Total cost**: Now, we can sum all these costs to find the total cost for the first year:\n",
            "   \\[\n",
            "   \\text{Total cost} = \\text{Land cost} + \\text{Solar panel cost} + \\text{Maintenance cost}\n",
            "   \\]\n",
            "   Substituting the expressions we calculated:\n",
            "   \\[\n",
            "   \\text{Total cost} = 100x + 250x + (100,000 + 10x)\n",
            "   \\]\n",
            "   Combining like terms:\n",
            "   \\[\n",
            "   \\text{Total cost} = (100x + 250x + 10x) + 100,000 = 360x + 100,000\n",
            "   \\]\n",
            "\n",
            "Thus, the total cost for the first year of operations as a function of the number of square feet \\( x \\) is:\n",
            "\\[\n",
            "\\text{Total cost} = 360x + 100,000\n",
            "\\]\n",
            "\n",
            "Now, let's compare this with the student's solution.\n",
            "\n",
            "Student's solution:\n",
            "```\n",
            "Let x be the size of the installation in square feet.\n",
            "Costs:\n",
            "1. Land cost: 100x\n",
            "2. Solar panel cost: 250x\n",
            "3. Maintenance cost: 100,000 + 100x\n",
            "Total cost: 100x + 250x + 100,000 + 100x = 450x + 100,000\n",
            "```\n",
            "\n",
            "Actual solution:\n",
            "```\n",
            "Total cost = 360x + 100,000\n",
            "```\n",
            "\n",
            "Is the student's solution the same as the actual solution just calculated:\n",
            "```\n",
            "no\n",
            "```\n",
            "Student grade:\n",
            "```\n",
            "incorrect\n",
            "```\n"
          ]
        }
      ]
    },
    {
      "cell_type": "markdown",
      "source": [
        "## Model Limitations: Hallucinations\n",
        "- Boie is a real company, the product name is not real."
      ],
      "metadata": {
        "id": "ZldnpL2EA8Y6"
      }
    },
    {
      "cell_type": "code",
      "source": [
        "prompt = f\"\"\"\n",
        "Tell me about AeroGlide UltraSlim Smart Toothbrush by Boie\n",
        "\"\"\"\n",
        "response = get_completion(prompt)\n",
        "print(response)"
      ],
      "metadata": {
        "id": "sCwZBbeGBAA4",
        "colab": {
          "base_uri": "https://localhost:8080/"
        },
        "outputId": "7b72d31e-dd5e-421a-d9bc-a39e674870ad"
      },
      "execution_count": null,
      "outputs": [
        {
          "output_type": "stream",
          "name": "stdout",
          "text": [
            "The AeroGlide UltraSlim Smart Toothbrush by Boie is designed to enhance oral hygiene through advanced technology and innovative design. Here are some key features and aspects of the toothbrush:\n",
            "\n",
            "1. **Slim Design**: The UltraSlim design makes it easy to handle and maneuver, allowing users to reach all areas of the mouth comfortably.\n",
            "\n",
            "2. **Smart Technology**: The toothbrush often includes smart features such as Bluetooth connectivity, which can sync with a mobile app. This app may provide feedback on brushing habits, track progress, and offer personalized recommendations for improving oral care.\n",
            "\n",
            "3. **Sustainability**: Boie is known for its commitment to sustainability. The toothbrush may feature replaceable brush heads, reducing waste compared to traditional toothbrushes that are discarded entirely.\n",
            "\n",
            "4. **Effective Cleaning**: The brush typically utilizes advanced bristle technology to ensure effective plaque removal and promote healthier gums.\n",
            "\n",
            "5. **User-Friendly**: The design is often user-friendly, with features like a built-in timer to encourage proper brushing duration and pressure sensors to prevent excessive force during brushing.\n",
            "\n",
            "6. **Battery Life**: The toothbrush may come with a long-lasting battery, ensuring that it can be used for extended periods without frequent recharging.\n",
            "\n",
            "7. **Aesthetic Appeal**: The design is often sleek and modern, appealing to consumers looking for a stylish addition to their oral care routine.\n",
            "\n",
            "For the most accurate and detailed information, including specifications and user reviews, it's best to check the official Boie website or trusted retailers.\n"
          ]
        }
      ]
    },
    {
      "cell_type": "markdown",
      "source": [
        "## Try experimenting on your own!"
      ],
      "metadata": {
        "id": "ShlD6Mp_BC81"
      }
    },
    {
      "cell_type": "markdown",
      "source": [
        "#### Notes on using the OpenAI API outside of this classroom\n",
        "\n",
        "To install the OpenAI Python library:\n",
        "```\n",
        "!pip install openai\n",
        "```\n",
        "\n",
        "The library needs to be configured with your account's secret key, which is available on the [website](https://platform.openai.com/account/api-keys).\n",
        "\n",
        "You can either set it as the `OPENAI_API_KEY` environment variable before using the library:\n",
        " ```\n",
        " !export OPENAI_API_KEY='sk-...'\n",
        " ```\n",
        "\n",
        "Or, set `openai.api_key` to its value:\n",
        "\n",
        "```\n",
        "import openai\n",
        "openai.api_key = \"sk-...\"\n",
        "```"
      ],
      "metadata": {
        "id": "ziFeaBi4BIdz"
      }
    },
    {
      "cell_type": "markdown",
      "source": [
        "#### A note about the backslash\n",
        "- In the course, we are using a backslash `\\` to make the text fit on the screen without inserting newline '\\n' characters.\n",
        "- GPT-3 isn't really affected whether you insert newline characters or not.  But when working with LLMs in general, you may consider whether newline characters in your prompt may affect the model's performance."
      ],
      "metadata": {
        "id": "368galN-BQD1"
      }
    }
  ]
}