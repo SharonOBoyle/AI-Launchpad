{
  "nbformat": 4,
  "nbformat_minor": 0,
  "metadata": {
    "colab": {
      "provenance": [],
      "gpuType": "T4",
      "authorship_tag": "ABX9TyPgwNCd+WICRVMqwAWHyQph",
      "include_colab_link": true
    },
    "kernelspec": {
      "name": "python3",
      "display_name": "Python 3"
    },
    "language_info": {
      "name": "python"
    },
    "accelerator": "GPU"
  },
  "cells": [
    {
      "cell_type": "markdown",
      "metadata": {
        "id": "view-in-github",
        "colab_type": "text"
      },
      "source": [
        "<a href=\"https://colab.research.google.com/github/SharonOBoyle/AI-Launchpad/blob/main/Day2_Assignment1_TransformerModelCode.ipynb\" target=\"_parent\"><img src=\"https://colab.research.google.com/assets/colab-badge.svg\" alt=\"Open In Colab\"/></a>"
      ]
    },
    {
      "cell_type": "markdown",
      "source": [
        "# **Assignment 1**\n",
        "\n",
        "Implement the transformer model code in https://github.com/toni-ramchandani/AIMasterClassTTT/blob/main/Section6-1_Transformers.ipynb\n"
      ],
      "metadata": {
        "id": "sFDCcYPtDic3"
      }
    },
    {
      "cell_type": "markdown",
      "source": [
        "# **1. Implement the transformer model code**\n",
        "\n",
        "In https://github.com/toni-ramchandani/AIMasterClassTTT/blob/main/Section6-1_Transformers.ipynb\n"
      ],
      "metadata": {
        "id": "UpFiDsCTD7Je"
      }
    },
    {
      "cell_type": "markdown",
      "source": [
        "**Note:** Added explanations of code from ChatGPT"
      ],
      "metadata": {
        "id": "M3BopGddtTWi"
      }
    },
    {
      "cell_type": "code",
      "source": [
        "# Install required libraries\n",
        "!pip install torch\n",
        "!pip install torchvision"
      ],
      "metadata": {
        "colab": {
          "base_uri": "https://localhost:8080/"
        },
        "id": "wWJcOEIPDmKH",
        "outputId": "dc31b8e3-7474-49a5-a2b4-14f1d3f5ff49"
      },
      "execution_count": null,
      "outputs": [
        {
          "output_type": "stream",
          "name": "stdout",
          "text": [
            "Requirement already satisfied: torch in /usr/local/lib/python3.10/dist-packages (2.5.1+cu121)\n",
            "Requirement already satisfied: filelock in /usr/local/lib/python3.10/dist-packages (from torch) (3.16.1)\n",
            "Requirement already satisfied: typing-extensions>=4.8.0 in /usr/local/lib/python3.10/dist-packages (from torch) (4.12.2)\n",
            "Requirement already satisfied: networkx in /usr/local/lib/python3.10/dist-packages (from torch) (3.4.2)\n",
            "Requirement already satisfied: jinja2 in /usr/local/lib/python3.10/dist-packages (from torch) (3.1.4)\n",
            "Requirement already satisfied: fsspec in /usr/local/lib/python3.10/dist-packages (from torch) (2024.10.0)\n",
            "Requirement already satisfied: sympy==1.13.1 in /usr/local/lib/python3.10/dist-packages (from torch) (1.13.1)\n",
            "Requirement already satisfied: mpmath<1.4,>=1.1.0 in /usr/local/lib/python3.10/dist-packages (from sympy==1.13.1->torch) (1.3.0)\n",
            "Requirement already satisfied: MarkupSafe>=2.0 in /usr/local/lib/python3.10/dist-packages (from jinja2->torch) (3.0.2)\n",
            "Requirement already satisfied: torchvision in /usr/local/lib/python3.10/dist-packages (0.20.1+cu121)\n",
            "Requirement already satisfied: numpy in /usr/local/lib/python3.10/dist-packages (from torchvision) (1.26.4)\n",
            "Requirement already satisfied: torch==2.5.1 in /usr/local/lib/python3.10/dist-packages (from torchvision) (2.5.1+cu121)\n",
            "Requirement already satisfied: pillow!=8.3.*,>=5.3.0 in /usr/local/lib/python3.10/dist-packages (from torchvision) (11.0.0)\n",
            "Requirement already satisfied: filelock in /usr/local/lib/python3.10/dist-packages (from torch==2.5.1->torchvision) (3.16.1)\n",
            "Requirement already satisfied: typing-extensions>=4.8.0 in /usr/local/lib/python3.10/dist-packages (from torch==2.5.1->torchvision) (4.12.2)\n",
            "Requirement already satisfied: networkx in /usr/local/lib/python3.10/dist-packages (from torch==2.5.1->torchvision) (3.4.2)\n",
            "Requirement already satisfied: jinja2 in /usr/local/lib/python3.10/dist-packages (from torch==2.5.1->torchvision) (3.1.4)\n",
            "Requirement already satisfied: fsspec in /usr/local/lib/python3.10/dist-packages (from torch==2.5.1->torchvision) (2024.10.0)\n",
            "Requirement already satisfied: sympy==1.13.1 in /usr/local/lib/python3.10/dist-packages (from torch==2.5.1->torchvision) (1.13.1)\n",
            "Requirement already satisfied: mpmath<1.4,>=1.1.0 in /usr/local/lib/python3.10/dist-packages (from sympy==1.13.1->torch==2.5.1->torchvision) (1.3.0)\n",
            "Requirement already satisfied: MarkupSafe>=2.0 in /usr/local/lib/python3.10/dist-packages (from jinja2->torch==2.5.1->torchvision) (3.0.2)\n"
          ]
        }
      ]
    },
    {
      "cell_type": "code",
      "source": [
        "# Import libraries\n",
        "import torch\n",
        "import torch.nn as nn\n",
        "import torch.nn.functional as F\n",
        "import math"
      ],
      "metadata": {
        "id": "SQSawh6WLd2Y"
      },
      "execution_count": 1,
      "outputs": []
    },
    {
      "cell_type": "markdown",
      "source": [
        "**What is Scaled Dot-Product Attention?**\n",
        "\n",
        "* **Purpose:** In Transformer models (like GPT, BERT), attention mechanisms let the model decide which parts of the input sequence to focus on.\n",
        "* **Key Idea:** Scaled Dot-Product Attention computes a weighted combination of values (value) based on how similar queries (query) are to keys (key)."
      ],
      "metadata": {
        "id": "1JBMTIy0M5PM"
      }
    },
    {
      "cell_type": "code",
      "source": [
        "# Define the ScaledDotProductAttention class, which is a type of attention mechanism used in Transformer models\n",
        "class ScaledDotProductAttention(nn.Module):\n",
        "    def __init__(self, d_k):\n",
        "        super(ScaledDotProductAttention, self).__init__()\n",
        "        self.d_k = d_k  # d_k is the dimensionality of the keys and queries, used for scaling the dot product\n",
        "\n",
        "    # The forward method defines how the input data moves through this layer\n",
        "    def forward(self, query, key, value, mask=None):\n",
        "        # Compute the dot product between the query and the transpose of the key\n",
        "        # The transpose operation swaps the last two dimensions of the key\n",
        "        # This dot product gives us a score matrix that represents the similarity between queries and keys\n",
        "        scores = torch.matmul(query, key.transpose(-2, -1)) / math.sqrt(self.d_k)\n",
        "\n",
        "        # If a mask is provided, apply it to the scores\n",
        "        # This is usually done to ignore certain positions in the input (e.g., padding tokens)\n",
        "        # The masked positions are filled with a large negative value (-1e9) so that their softmax result is close to zero\n",
        "        if mask is not None:\n",
        "            scores = scores.masked_fill(mask == 0, -1e9)\n",
        "\n",
        "        # Apply the softmax function to the scores to obtain attention weights\n",
        "        # Softmax is applied along the last dimension to ensure the weights sum up to 1\n",
        "        attention = F.softmax(scores, dim=-1)\n",
        "\n",
        "        # Multiply the attention weights with the value vectors\n",
        "        # This step generates the output by weighting the value vectors according to the attention weights\n",
        "        output = torch.matmul(attention, value)\n",
        "\n",
        "        # Return the output and the attention weights\n",
        "        return output, attention\n"
      ],
      "metadata": {
        "id": "jXspQ1tjLjK3"
      },
      "execution_count": 2,
      "outputs": []
    },
    {
      "cell_type": "markdown",
      "source": [
        "**Summary**\n",
        "\n",
        "* **Purpose:** This class implements the Scaled Dot-Product Attention mechanism.\n",
        "* **Process:**\n",
        "  1. Compute similarity scores between query and key.\n",
        "  2. Optionally mask out certain positions.\n",
        "  3. Convert scores to attention weights using softmax.\n",
        "  4. Use the weights to compute a weighted sum of value vectors.\n",
        "* **Output:** The resulting output and the attention weights.\n",
        "\n",
        "\n",
        "\n",
        "\n",
        "**Analogy**\n",
        "\n",
        "Imagine you’re reading a book:\n",
        "\n",
        "1. **Query:** What you’re currently looking for (e.g., a character’s name).\n",
        "2. **Key:** All the information in the book.\n",
        "3. **Value:** The content of the book.\n",
        "4. **Mask:** Ignoring irrelevant sections (e.g., the index or blank pages).\n",
        "5. **Attention Weights:** Deciding which sentences or paragraphs are most relevant based on your query.\n",
        "\n",
        "The class essentially performs this process computationally!"
      ],
      "metadata": {
        "id": "kLTk3TiBOCxc"
      }
    },
    {
      "cell_type": "markdown",
      "source": [
        "**What is Multi-Head Attention?**\n",
        "\n",
        "* **Purpose:** Multi-head attention is a key part of Transformer models. It allows the model to focus on different parts of the input sequence simultaneously.\n",
        "* **How it works:** The input (queries, keys, and values) is split into multiple \"heads,\" and each head performs attention independently. The results are then combined."
      ],
      "metadata": {
        "id": "6qizYHNjPS79"
      }
    },
    {
      "cell_type": "code",
      "source": [
        "# Define the Multi-head Attention Layer\n",
        "\n",
        "import torch\n",
        "import torch.nn as nn\n",
        "import torch.nn.functional as F\n",
        "import math\n",
        "\n",
        "# Define the MultiHeadAttention class, which is a core component of the Transformer model\n",
        "class MultiHeadAttention(nn.Module):\n",
        "    def __init__(self, d_model, num_heads):\n",
        "        super(MultiHeadAttention, self).__init__()\n",
        "        self.num_heads = num_heads  # The number of attention heads\n",
        "        self.d_k = d_model // num_heads  # The dimension of each head (d_model divided by num_heads)\n",
        "\n",
        "        # Linear layers to project the input query, key, and value vectors into the required dimensions\n",
        "        self.query_linear = nn.Linear(d_model, d_model)\n",
        "        self.key_linear = nn.Linear(d_model, d_model)\n",
        "        self.value_linear = nn.Linear(d_model, d_model)\n",
        "\n",
        "        # Linear layer to project the concatenated output of all heads back into the original d_model dimension\n",
        "        self.out_linear = nn.Linear(d_model, d_model)\n",
        "\n",
        "    # The forward method defines how the input data moves through this layer\n",
        "    def forward(self, query, key, value, mask=None):\n",
        "        batch_size = query.size(0)  # Get the batch size from the query input\n",
        "\n",
        "        # Project the query, key, and value inputs into multiple heads\n",
        "        # Each projection is reshaped to [batch_size, num_heads, sequence_length, d_k]\n",
        "        query = self.query_linear(query).view(batch_size, -1, self.num_heads, self.d_k).transpose(1, 2)\n",
        "        key = self.key_linear(key).view(batch_size, -1, self.num_heads, self.d_k).transpose(1, 2)\n",
        "        value = self.value_linear(value).view(batch_size, -1, self.num_heads, self.d_k).transpose(1, 2)\n",
        "\n",
        "        # Apply scaled dot-product attention for each head\n",
        "        # The attention function returns the attention-weighted values\n",
        "        attention, _ = ScaledDotProductAttention(self.d_k)(query, key, value, mask)\n",
        "\n",
        "        # Transpose and reshape the attention output back to [batch_size, sequence_length, d_model]\n",
        "        attention = attention.transpose(1, 2).contiguous().view(batch_size, -1, self.num_heads * self.d_k)\n",
        "\n",
        "        # Apply the final linear transformation to combine the heads' outputs\n",
        "        output = self.out_linear(attention)\n",
        "        return output  # Return the final output of the multi-head attention mechanism\n",
        "\n",
        "\n"
      ],
      "metadata": {
        "id": "ozVde_n8OIhT"
      },
      "execution_count": 3,
      "outputs": []
    },
    {
      "cell_type": "markdown",
      "source": [
        "# **Summary of the Process**\n",
        "\n",
        "1. **Input Transformation:**\n",
        "\n",
        "  * The input is projected into query, key, and value vectors using separate linear layers.\n",
        "  * These vectors are split into multiple smaller heads for parallel attention computation.\n",
        "2. **Attention Computation:**\n",
        "\n",
        "  * Each head computes attention using ScaledDotProductAttention.\n",
        "  * Attention focuses on different parts of the input based on the query.\n",
        "3. **Combine Results:**\n",
        "\n",
        "  * The results of all heads are concatenated and passed through a linear layer to get the final output.\n",
        "\n",
        "# **Analogy**\n",
        "\n",
        "Think of reading a book with multiple reviewers:\n",
        "\n",
        "1. Each reviewer (head) focuses on a different aspect of the story (e.g., characters, plot, language).\n",
        "2. They analyze (compute attention) and provide their perspectives.\n",
        "3. Their opinions are then combined into a summary (final output).\n",
        "\n",
        "# **Key Points**\n",
        "* Multi-head attention splits the input into smaller \"attention heads.\"\n",
        "*Each head processes attention independently and focuses on different parts of the sequence.\n",
        "*The results from all heads are concatenated and transformed back into the original dimensionality.\n",
        "\n",
        "This structure allows the model to learn more diverse and meaningful relationships in the data."
      ],
      "metadata": {
        "id": "JyubyChDQ4XS"
      }
    },
    {
      "cell_type": "markdown",
      "source": [
        "# **Explanation of the PositionalEncoding Class**\n",
        "\n",
        "The PositionalEncoding class introduces **positional information** into the input embeddings for Transformer models. Since Transformer models are inherently **order-agnostic** (they don’t process data sequentially), positional encodings help the model understand the relative or absolute positions of words or tokens in a sequence."
      ],
      "metadata": {
        "id": "cA9zgSrUR4nw"
      }
    },
    {
      "cell_type": "code",
      "source": [
        "# Implement Positional Encoding\n",
        "\n",
        "# Define the PositionalEncoding class, which is used to inject information about the relative or absolute position of tokens in a sequence.\n",
        "class PositionalEncoding(nn.Module):\n",
        "    def __init__(self, d_model, max_len=5000):\n",
        "        super(PositionalEncoding, self).__init__()\n",
        "\n",
        "        # Initialize an empty encoding matrix with shape [max_len, d_model]\n",
        "        self.encoding = torch.zeros(max_len, d_model)\n",
        "\n",
        "        # Create a tensor with shape [max_len, 1], where each element represents the position in the sequence\n",
        "        position = torch.arange(0, max_len).unsqueeze(1)\n",
        "\n",
        "        # Calculate the division term, which is based on the position and model dimension\n",
        "        # The division term varies across dimensions and is used to scale the position\n",
        "        div_term = torch.exp(torch.arange(0, d_model, 2) * -(math.log(10000.0) / d_model))\n",
        "\n",
        "        # Apply sine to even indices (starting at 0) in the encoding matrix\n",
        "        self.encoding[:, 0::2] = torch.sin(position * div_term)\n",
        "\n",
        "        # Apply cosine to odd indices (starting at 1) in the encoding matrix\n",
        "        self.encoding[:, 1::2] = torch.cos(position * div_term)\n",
        "\n",
        "        # Add an extra dimension at the start of the encoding tensor to match batch dimensions\n",
        "        # The resulting shape is [1, max_len, d_model]\n",
        "        self.encoding = self.encoding.unsqueeze(0)\n",
        "\n",
        "    # Forward method that adds the positional encoding to the input tensor x\n",
        "    def forward(self, x):\n",
        "        # The encoding tensor is added to the input x, which is expected to have a shape of [batch_size, sequence_length, d_model]\n",
        "        # The encoding is sliced to match the sequence length of x and moved to the same device as x\n",
        "        return x + self.encoding[:, :x.size(1), :].to(x.device)\n"
      ],
      "metadata": {
        "id": "BKaT-yBAPIoz"
      },
      "execution_count": 4,
      "outputs": []
    },
    {
      "cell_type": "markdown",
      "source": [
        "# **Key Insights**\n",
        "* **Why Sine and Cosine?**\n",
        "\n",
        "  * The combination of sine and cosine allows the model to learn relative positions between tokens. For example, the sum or difference of two periodic functions can capture distance between positions.\n",
        "* **Why Exponential Scaling?**\n",
        "\n",
        "  * The frequencies decrease exponentially to capture positional patterns at both small and large scales.\n",
        "* **What Does It Output?**\n",
        "\n",
        "  * If the input x has shape [batch_size, seq_len, d_model], the output will also have the same shape but with positional information added.\n"
      ],
      "metadata": {
        "id": "F8dcBUk9S6Hz"
      }
    },
    {
      "cell_type": "markdown",
      "source": [
        "# **Summary**\n",
        "* The **PositionalEncoding** class generates positional encodings using sine and cosine functions.\n",
        "* It adds these encodings to the input embeddings to provide information about the order of tokens.\n",
        "* The output has the same shape as the input but includes positional information.\n",
        "\n",
        "This mechanism is crucial for allowing Transformer models to understand the sequence structure of data."
      ],
      "metadata": {
        "id": "i0ji8DUDTXDa"
      }
    },
    {
      "cell_type": "markdown",
      "source": [
        "# **What is the Encoder Layer?**\n",
        "* The EncoderLayer is a single layer in the Transformer encoder architecture.\n",
        "* It consists of two main components:\n",
        "  1. **Self-Attention Mechanism:** Helps the model focus on relevant parts of the input sequence.\n",
        "  2. **Feed-Forward Network (FFN):** Processes and transforms the attention outputs."
      ],
      "metadata": {
        "id": "I-VqNI64UePv"
      }
    },
    {
      "cell_type": "code",
      "source": [
        "# Define the EncoderLayer class, which is a single layer of the Transformer encoder\n",
        "class EncoderLayer(nn.Module):\n",
        "    def __init__(self, d_model, num_heads, d_ff, dropout=0.1):\n",
        "        super(EncoderLayer, self).__init__()\n",
        "\n",
        "        # Initialize the MultiHeadAttention mechanism\n",
        "        self.self_attn = MultiHeadAttention(d_model, num_heads)\n",
        "\n",
        "        # Define the feedforward network as a sequence of layers\n",
        "        self.ff = nn.Sequential(\n",
        "            nn.Linear(d_model, d_ff),  # Linear transformation from d_model to d_ff dimensions\n",
        "            nn.ReLU(),  # Apply ReLU activation function\n",
        "            nn.Linear(d_ff, d_model)  # Linear transformation back to d_model dimensions\n",
        "        )\n",
        "\n",
        "        # Layer normalization applied after the self-attention sub-layer\n",
        "        self.layer_norm1 = nn.LayerNorm(d_model)\n",
        "\n",
        "        # Layer normalization applied after the feedforward sub-layer\n",
        "        self.layer_norm2 = nn.LayerNorm(d_model)\n",
        "\n",
        "        # Dropout layer to prevent overfitting\n",
        "        self.dropout = nn.Dropout(dropout)\n",
        "\n",
        "    # The forward method defines the flow of data through this layer\n",
        "    def forward(self, x, mask=None):\n",
        "        # Apply self-attention mechanism\n",
        "        # The input x is passed as query, key, and value, which is typical for self-attention\n",
        "        attn_output = self.self_attn(x, x, x, mask)\n",
        "\n",
        "        # Add the attention output to the input (residual connection) and apply layer normalization\n",
        "        x = self.layer_norm1(x + self.dropout(attn_output))\n",
        "\n",
        "        # Pass the normalized output through the feedforward network\n",
        "        ff_output = self.ff(x)\n",
        "\n",
        "        # Add the feedforward output to the input (residual connection) and apply layer normalization\n",
        "        x = self.layer_norm2(x + self.dropout(ff_output))\n",
        "\n",
        "        # Return the final output of this encoder layer\n",
        "        return x\n"
      ],
      "metadata": {
        "id": "Hukg7Z083GpO"
      },
      "execution_count": 5,
      "outputs": []
    },
    {
      "cell_type": "markdown",
      "source": [
        "# **Summary of the Encoder Layer**\n",
        "**Self-Attention:**\n",
        "\n",
        "* Calculates relationships between all tokens in the sequence.\n",
        "* Outputs attention-weighted information for each token.\n",
        "\n",
        "**Add & Normalize (Sublayer 1):**\n",
        "\n",
        "* Combines the input and self-attention output.\n",
        "* Normalizes to stabilize training.\n",
        "\n",
        "**Feed-Forward Network:**\n",
        "\n",
        "* Transforms the self-attention output into more meaningful representations.\n",
        "\n",
        "**Add & Normalize (Sublayer 2):**\n",
        "\n",
        "* Combines the FFN output with the input from the first sublayer.\n",
        "* Normalizes again.\n",
        "\n",
        "#**Illustrative Analogy**\n",
        "Imagine processing a sentence:\n",
        "\n",
        "1. **Self-Attention:** For each word, find its relationships with all other words (e.g., \"The cat sat on the mat\" → the word \"cat\" relates to \"sat\" and \"mat\").\n",
        "2. **Feed-Forward Network:** Process the relationships to extract deeper meaning (e.g., identify \"cat sitting on mat\").\n",
        "3. **Add & Normalize:** Combine the original information with the new insights and stabilize it.\n",
        "\n",
        "#**How It Fits in a Transformer**\n",
        "* The EncoderLayer is one block in the Transformer encoder stack.\n",
        "* Multiple EncoderLayers are stacked to build a deep Transformer model capable of understanding complex input relationships."
      ],
      "metadata": {
        "id": "21rE7764VBJK"
      }
    },
    {
      "cell_type": "markdown",
      "source": [
        "# **What is the Decoder Layer?**\n",
        "The DecoderLayer is a single block in the **Transformer decoder**. Its primary function is to:\n",
        "\n",
        "1. Attend to the target sequence (self-attention).\n",
        "2. Attend to the encoder output (cross-attention).\n",
        "3. Transform the resulting representation using a feed-forward network (FFN).\n",
        "\n",
        "It processes the input from the previous decoder layer (or embeddings) and combines it with the output from the encoder to generate meaningful predictions."
      ],
      "metadata": {
        "id": "l9zPWjgMWMTh"
      }
    },
    {
      "cell_type": "code",
      "source": [
        "# Define the DecoderLayer class, which is a single layer of the Transformer decoder\n",
        "class DecoderLayer(nn.Module):\n",
        "    def __init__(self, d_model, num_heads, d_ff, dropout=0.1):\n",
        "        super(DecoderLayer, self).__init__()\n",
        "\n",
        "        # Self-attention mechanism for the target sequence (decoder input)\n",
        "        self.self_attn = MultiHeadAttention(d_model, num_heads)\n",
        "\n",
        "        # Cross-attention mechanism that attends to the encoder output\n",
        "        self.cross_attn = MultiHeadAttention(d_model, num_heads)\n",
        "\n",
        "        # Feedforward network as a sequence of layers\n",
        "        self.ff = nn.Sequential(\n",
        "            nn.Linear(d_model, d_ff),  # Linear transformation from d_model to d_ff dimensions\n",
        "            nn.ReLU(),  # Apply ReLU activation function\n",
        "            nn.Linear(d_ff, d_model)  # Linear transformation back to d_model dimensions\n",
        "        )\n",
        "\n",
        "        # Layer normalization applied after self-attention sub-layer\n",
        "        self.layer_norm1 = nn.LayerNorm(d_model)\n",
        "\n",
        "        # Layer normalization applied after cross-attention sub-layer\n",
        "        self.layer_norm2 = nn.LayerNorm(d_model)\n",
        "\n",
        "        # Layer normalization applied after the feedforward sub-layer\n",
        "        self.layer_norm3 = nn.LayerNorm(d_model)\n",
        "\n",
        "        # Dropout layer to prevent overfitting\n",
        "        self.dropout = nn.Dropout(dropout)\n",
        "\n",
        "    # The forward method defines the flow of data through this layer\n",
        "    def forward(self, x, enc_output, src_mask=None, tgt_mask=None):\n",
        "        # Apply self-attention mechanism on the decoder input (target sequence)\n",
        "        # The input x is passed as query, key, and value, similar to the encoder's self-attention\n",
        "        attn_output = self.self_attn(x, x, x, tgt_mask)\n",
        "\n",
        "        # Add the attention output to the input (residual connection) and apply layer normalization\n",
        "        x = self.layer_norm1(x + self.dropout(attn_output))\n",
        "\n",
        "        # Apply cross-attention mechanism, attending to the encoder output (source sequence)\n",
        "        # The decoder input x is the query, and the encoder output (enc_output) is the key and value\n",
        "        attn_output = self.cross_attn(x, enc_output, enc_output, src_mask)\n",
        "\n",
        "        # Add the cross-attention output to the input and apply layer normalization\n",
        "        x = self.layer_norm2(x + self.dropout(attn_output))\n",
        "\n",
        "        # Pass the normalized output through the feedforward network\n",
        "        ff_output = self.ff(x)\n",
        "\n",
        "        # Add the feedforward output to the input (residual connection) and apply layer normalization\n",
        "        x = self.layer_norm3(x + self.dropout(ff_output))\n",
        "\n",
        "        # Return the final output of this decoder layer\n",
        "        return x\n",
        "\n"
      ],
      "metadata": {
        "id": "oeTkJVLRUDyA"
      },
      "execution_count": 6,
      "outputs": []
    },
    {
      "cell_type": "markdown",
      "source": [
        "# **Summary of the Decoder Layer**\n",
        "1. **Self-Attention:**\n",
        "\n",
        "  * Focuses on the target sequence to model relationships within it.\n",
        "  * Enforces causal masking to ensure no information from future tokens is used.\n",
        "2. **Cross-Attention:**\n",
        "\n",
        "  * Focuses on the encoder's output to incorporate source sequence information.\n",
        "  * Models the relationship between the target and source sequences.\n",
        "3. **Feed-Forward Network:**\n",
        "\n",
        "  * Transforms the resulting representation for richer feature extraction.\n",
        "4. **Add & Normalize:**\n",
        "\n",
        "  * Ensures stability and allows residual connections for better gradient flow.\n",
        "\n",
        "# **Illustrative Analogy**\n",
        "Imagine a translator working on a sentence:\n",
        "\n",
        "1. **Self-Attention:** Focuses on the structure and relationships within the partially translated sentence.\n",
        "2. **Cross-Attention:** Looks back at the source sentence to pick up the necessary context.\n",
        "3. **Feed-Forward Network:** Refines the translation for fluency and correctness.\n",
        "\n",
        "# **How It Fits in a Transformer**\n",
        "* The DecoderLayer is a single block in the Transformer decoder.\n",
        "* Multiple DecoderLayers are stacked to form a deep decoder, enabling it to generate coherent and contextually accurate outputs."
      ],
      "metadata": {
        "id": "wvK0eNyyWoFx"
      }
    },
    {
      "cell_type": "markdown",
      "source": [
        "# **What is the Transformer Class?**\n",
        "The Transformer class implements the full Transformer architecture, combining:\n",
        "\n",
        "1. **Embedding Layers:** Converts input tokens into dense vectors.\n",
        "2. **Positional Encoding:** Adds positional information to embeddings.\n",
        "3. **Encoder:** Processes the input sequence to create meaningful representations.\n",
        "4. **Decoder:** Processes the target sequence and integrates information from the encoder.\n",
        "5. **Final Linear Layer:** Maps the decoder output to the output vocabulary for predictions.\n"
      ],
      "metadata": {
        "id": "At98wKbxX9sb"
      }
    },
    {
      "cell_type": "code",
      "source": [
        "# Build the transformer model\n",
        "\n",
        "# Define the Transformer class, which represents the complete Transformer model architecture\n",
        "class Transformer(nn.Module):\n",
        "    def __init__(self, d_model, num_heads, num_encoder_layers, num_decoder_layers, d_ff, input_vocab_size, output_vocab_size, max_len=5000, dropout=0.1):\n",
        "        super(Transformer, self).__init__()\n",
        "\n",
        "        # Embedding layer for the source input sequence (encoder input)\n",
        "        self.encoder_embedding = nn.Embedding(input_vocab_size, d_model)\n",
        "\n",
        "        # Embedding layer for the target input sequence (decoder input)\n",
        "        self.decoder_embedding = nn.Embedding(output_vocab_size, d_model)\n",
        "\n",
        "        # Positional encoding to add positional information to the input embeddings\n",
        "        self.positional_encoding = PositionalEncoding(d_model, max_len)\n",
        "\n",
        "        # Stack of encoder layers, each composed of self-attention and feedforward sub-layers\n",
        "        self.encoder_layers = nn.ModuleList([EncoderLayer(d_model, num_heads, d_ff, dropout) for _ in range(num_encoder_layers)])\n",
        "\n",
        "        # Stack of decoder layers, each composed of self-attention, cross-attention, and feedforward sub-layers\n",
        "        self.decoder_layers = nn.ModuleList([DecoderLayer(d_model, num_heads, d_ff, dropout) for _ in range(num_decoder_layers)])\n",
        "\n",
        "        # Final linear layer that maps the decoder output to the output vocabulary size\n",
        "        self.final_linear = nn.Linear(d_model, output_vocab_size)\n",
        "\n",
        "    # The forward method defines how the data flows through the Transformer model\n",
        "    def forward(self, src, tgt, src_mask=None, tgt_mask=None):\n",
        "        # Embed the source input sequence (src) and scale the embeddings by the square root of the model dimension\n",
        "        src = self.encoder_embedding(src) * torch.sqrt(torch.tensor(d_model, dtype=torch.float32))\n",
        "\n",
        "        # Add positional encodings to the embedded source sequence\n",
        "        src = self.positional_encoding(src)\n",
        "\n",
        "        # Pass the source sequence through each encoder layer in the stack\n",
        "        for layer in self.encoder_layers:\n",
        "            src = layer(src, src_mask)\n",
        "\n",
        "        # Embed the target input sequence (tgt) and scale the embeddings by the square root of the model dimension\n",
        "        tgt = self.decoder_embedding(tgt) * torch.sqrt(torch.tensor(d_model, dtype=torch.float32))\n",
        "\n",
        "        # Add positional encodings to the embedded target sequence\n",
        "        tgt = self.positional_encoding(tgt)\n",
        "\n",
        "        # Pass the target sequence through each decoder layer in the stack\n",
        "        for layer in self.decoder_layers:\n",
        "            tgt = layer(tgt, src, tgt_mask, src_mask)\n",
        "\n",
        "        # Pass the output of the final decoder layer through the final linear layer\n",
        "        # This maps the output to the vocabulary space, producing a distribution over the output vocabulary\n",
        "        output = self.final_linear(tgt)\n",
        "\n",
        "        # Return the final output, which is typically passed to a softmax layer during training\n",
        "        return output\n"
      ],
      "metadata": {
        "id": "pL3lCmhR14HI"
      },
      "execution_count": 7,
      "outputs": []
    },
    {
      "cell_type": "markdown",
      "source": [
        "# **Complete Data Flow in the Transformer**\n",
        "1. **Input:**\n",
        "\n",
        "  * Source (src) and target (tgt) sequences are provided as input.\n",
        "2. **Encoder:**\n",
        "\n",
        "  * Processes the source sequence to create a rich representation.\n",
        "3. **Decoder:**\n",
        "\n",
        "  * Processes the target sequence while attending to the encoder’s output.\n",
        "  * Outputs contextualized representations for each target token.\n",
        "4. **Output Layer:**\n",
        "\n",
        "  * Maps decoder representations to the output vocabulary for predictions.\n"
      ],
      "metadata": {
        "id": "KDCfQ8LGYiuw"
      }
    },
    {
      "cell_type": "markdown",
      "source": [
        "# **Common Use Case**\n",
        "The Transformer is commonly used for:\n",
        "\n",
        "* **Machine Translation:** Source (src) is the input language, and target (tgt) is the translated language.\n",
        "* **Text Summarization:** Source (src) is the full text, and target (tgt) is the summary.\n",
        "* **Text Generation:** Source (src) could be a prompt, and target (tgt) is the generated text.\n"
      ],
      "metadata": {
        "id": "jblZ44u2Y5xo"
      }
    },
    {
      "cell_type": "markdown",
      "source": [
        "# **Define Example Usage**"
      ],
      "metadata": {
        "id": "sErnUTb0ZxQP"
      }
    },
    {
      "cell_type": "code",
      "source": [
        "# Define Example Usage\n",
        "\n",
        "# Define the vocabulary sizes for the source and target languages\n",
        "input_vocab_size = 10000  # Source vocabulary size\n",
        "output_vocab_size = 10000  # Target vocabulary size\n",
        "\n",
        "# Set the dimensionality of the model, which determines the size of the embeddings and the model's internal representations\n",
        "d_model = 512  # Dimensionality of the embeddings and model\n",
        "\n",
        "# Define the number of attention heads in the multi-head attention mechanism\n",
        "num_heads = 8  # Number of attention heads\n",
        "\n",
        "# Set the number of layers in the encoder and decoder stacks\n",
        "num_encoder_layers = 6  # Number of encoder layers\n",
        "num_decoder_layers = 6  # Number of decoder layers\n",
        "\n",
        "# Define the dimensionality of the feedforward network within each layer\n",
        "d_ff = 2048  # Dimensionality of the feedforward network\n",
        "\n",
        "# Set the maximum length for the input and output sequences\n",
        "max_len = 100  # Maximum length of the input and output sequences\n",
        "\n",
        "# Instantiate the Transformer model with the specified parameters\n",
        "model = Transformer(d_model, num_heads, num_encoder_layers, num_decoder_layers, d_ff, input_vocab_size, output_vocab_size, max_len)\n",
        "\n",
        "# Generate a batch of random source sentences\n",
        "# Each sentence has 100 tokens, and there are 32 sentences in the batch\n",
        "src = torch.randint(0, input_vocab_size, (32, 100))  # Source sentences (randomly generated)\n",
        "\n",
        "# Generate a batch of random target sentences\n",
        "# Each sentence has 100 tokens, and there are 32 sentences in the batch\n",
        "tgt = torch.randint(0, output_vocab_size, (32, 100))  # Target sentences (randomly generated)\n",
        "\n",
        "# Pass the source and target sentences through the Transformer model\n",
        "output = model(src, tgt)\n",
        "\n",
        "# Print the shape of the output tensor\n",
        "# Expected shape: [32, 100, 10000], corresponding to [batch size, sequence length, output vocab size]\n",
        "print(output.shape)\n"
      ],
      "metadata": {
        "colab": {
          "base_uri": "https://localhost:8080/"
        },
        "id": "ZGoToDOaXp64",
        "outputId": "41e04896-4fc6-4c50-e827-0fb4147bf2ae"
      },
      "execution_count": 8,
      "outputs": [
        {
          "output_type": "stream",
          "name": "stdout",
          "text": [
            "torch.Size([32, 100, 10000])\n"
          ]
        }
      ]
    },
    {
      "cell_type": "markdown",
      "source": [
        "# **Summary**\n",
        "* The code initializes and runs a Transformer model.\n",
        "* Randomly generated source (src) and target (tgt) sequences are passed through the model.\n",
        "* The output has a shape of [batch_size, tgt_seq_len, output_vocab_size].\n"
      ],
      "metadata": {
        "id": "7DoeV6QNZ9t3"
      }
    },
    {
      "cell_type": "code",
      "source": [],
      "metadata": {
        "id": "9VDfRn_uZPBY"
      },
      "execution_count": null,
      "outputs": []
    }
  ]
}